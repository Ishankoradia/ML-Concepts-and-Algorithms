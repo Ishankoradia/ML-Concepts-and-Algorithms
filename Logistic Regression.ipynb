{
 "cells": [
  {
   "cell_type": "markdown",
   "id": "196fc4b5",
   "metadata": {},
   "source": [
    "---\n",
    "# **Logistic Regression**\n",
    "---\n",
    "\n",
    "**1.** [**Introduction**](#Section1)<br>\n",
    "\n",
    "**2.** [**More on Logistic Regression**](#Section2)<br>\n",
    "  - **2.1** [**What is wrong with Linear Regression for Classification ?**](#Section21)\n",
    "  - **2.2** [**Theory**](#Section22)\n",
    "  - **2.3** [**Interpretation**](#Section23)\n",
    "      - **2.3.1** [**Odds And Log odds (What? and Why?)**](#Section231)\n",
    "      - **2.3.2** [**Logistic Regression and Log Odds**](#Section232)\n",
    "\n",
    "**3.** [**Case Study (Bank Marketing)**](#Section3)<br>\n",
    "  - **3.1** [**About the Dataset**](#Section31)\n",
    "  - **3.2** [**Preparing Data and EDA**](#Section32)\n",
    "  - **3.3** [**Model Training and Prediction**](#Section33)\n",
    "  - **3.4** [**Model Evaluation**](#Section34)\n",
    "      - **3.4.1** [**Accuracy Score**](#Section341)\n",
    "      - **3.4.2** [**Confusion Matrix**](#Section342)\n",
    "      - **3.4.3** [**Classification Error**](#Section343)\n",
    "      - **3.4.4** [**Sensitivity and Specificity**](#Section344)\n",
    "      - **3.4.5** [**Precision and Recall**](#Section345)\n",
    "      - **3.4.6** [**F1-score**](#Section346)\n",
    "      - **3.4.7** [**F<sub>$\\beta$</sub> - score** ](#Section347)\n",
    "      - **3.4.8** [**AUC-ROC**](#Section348)\n",
    "      \n",
    "      \n",
    "**4.** [**Case Study (Loan Prediction)**](#Section4)<br>\n",
    "  - **4.1** [**Load and Audit Data**](#Section41)\n",
    "  - **4.2** [**Imputation of missing values**](#Section42)\n",
    "  - **4.3** [**Encoding of categorical variables**](#Section43)\n",
    "  - **4.4** [**Prepare data for logistic regression**](#Section44)\n",
    "  - **4.5** [**Model training and evaluation**](#Section45)\n",
    "  - **4.6** [**Trying out with Random Forest**](#Section46)\n",
    "      "
   ]
  },
  {
   "cell_type": "markdown",
   "id": "eb0e3f0e",
   "metadata": {},
   "source": [
    "<a name = Section1></a>\n",
    "# **1. Introduction**\n",
    "\n",
    "- **Logistic Regression** is a classification algorithm used when the target variable is discreet or categorical.\n",
    "- This technique forms relationship between features and computes probability of the categorical outcome to make decisions."
   ]
  },
  {
   "cell_type": "markdown",
   "id": "e257745c",
   "metadata": {},
   "source": [
    "<a name = Section2></a>\n",
    "# **2 More Logistic Regression**\n",
    "\n",
    "<a name = Section21></a>\n",
    "## **2.1 <u>What is wrong with Linear Regression for Classification ?</u>**\n",
    "   \n",
    "   - The linear regression model can work well for regression, but fails for classification. Why is that? In case of two classes, you could label one of the classes with 0 and the other with 1 and use linear regression. Technically it works and most linear model programs will spit out weights for you. But there are a few problems with this approach:  \n",
    "       <br>\n",
    "   \n",
    "       - A linear model does not output probabilities, but it treats the classes as numbers (0 and 1) and fits the best hyperplane (for a single feature, it is a line) that minimizes the distances between the points and the hyperplane. So it simply interpolates between the points, and you cannot interpret it as probabilities.\n",
    "       \n",
    "       <br>\n",
    "       \n",
    "       - Since the predicted outcome is not a probability, but a linear interpolation between points, there is no meaningful threshold at which you can distinguish one class from the other.\n",
    "       \n",
    "       <br>\n",
    "       \n",
    "       - The image below shows application of Linear Regression model for classification of cancer tumor (malignant (1) or not malignant(0)). For distribution on the left, a threshold of 0.5 seems to work but after just adding a few more data points of malignant tumor, the threshold of 0.5 doesn't seem to work.\n",
    "       \n",
    "       <img src='images/linear-class-threshold-1.png' width='500' height='400' >\n",
    "       \n",
    "       <br>\n",
    "       \n",
    "       - Linear models do not extend to classification problems with multiple classes. You would have to start labeling the next class with 2, then 3, and so on. The classes might not have any meaningful order, but the linear model would force a weird structure on the relationship between the features and your class predictions. The higher the value of a feature with a positive weight, the more it contributes to the prediction of a class with a higher number, even if classes that happen to get a similar number are not closer than other classes. \n",
    "   "
   ]
  },
  {
   "cell_type": "markdown",
   "id": "fc4c4851",
   "metadata": {},
   "source": [
    "<a name = Section22></a>\n",
    "## **2.2 <u>Theory</u>**\n",
    "\n",
    "   - A solution for classification problem is **Logistic Regression**. Instead of fitting a straight line or a hyperplane, the **Logisitic Regression** model uses the logistic function (sigmoid) to sequeeze the output of a linear equation between 0 and 1.\n",
    "\n",
    "   $$\n",
    "   S(x) = \\dfrac{1}{1+e^{-x}} ; x \\in (-\\infty, \\infty)\n",
    "   $$\n",
    "\n",
    "\n",
    "   $$\n",
    "   \\lim_{x \\to -\\infty} S(x) = \\lim_{x \\to -\\infty} \\dfrac{1}{1+e^{-x}} = 0 \n",
    "   $$\n",
    "\n",
    "\n",
    "   $$\n",
    "   \\lim_{x \\to \\infty} S(x) = \\lim_{x \\to \\infty} \\dfrac{1}{1+e^{-x}} = 1 \n",
    "   $$\n",
    "\n",
    "       Hence,\n",
    "\n",
    "   $$\n",
    "   S(x) \\in (0, 1)\n",
    "   $$\n",
    "\n",
    "   - The sigmoid function is a probabilistic function that lies in $(0, 1)$\n",
    "       \n",
    "   - The step from linear regression to logistic regression is kind of straightforward. For the ith observation or data point we have\n",
    "   \n",
    "   Linear Regression, <br>\n",
    "   $$\n",
    "   \\hat y^{(i)} = \\beta_0 + \\beta_1x_1^{(i)} + \\beta_2x_2^{(i)} + ..... + \\beta_px_p^{(i)}\n",
    "   $$\n",
    "   \n",
    "   Logistic Regression,\n",
    "   $$\n",
    "   P(\\hat y^{(i)} = 1 \\ | \\ (x_1^{(i)}, x_2^{(i)}, ....) ) = S(\\hat y^{(i)}) = \\dfrac{1}{1 + e^{-(\\beta_0 + \\beta_1x_1^{(i)} + \\beta_2x_2^{(i)} + ..... + \\beta_px_p^{(i)})}} \n",
    "   $$\n",
    "   \n",
    "   \n",
    "   - Applying the Logistic Regression model to the above tumor example. We can now use a threshold of 0.5 in both cases\n",
    "   \n",
    "   <img src='images/logistic-class-threshold-1.png' width='500' height='400' >\n",
    " "
   ]
  },
  {
   "cell_type": "markdown",
   "id": "0fb34237",
   "metadata": {},
   "source": [
    "<a name = Section23></a>\n",
    "## **2.3 <u>Interpretation</u>**   \n",
    "\n",
    "<a name = Section231></a>\n",
    "### **2.3.1 <u>Odds And Log odds (What? and Why?)</u>**\n",
    "\n",
    "Let's consider an example, where we play a game of chess with an AI bot. We played 10 games in total, where we managed to win 4 games and lost the other 6 games.\n",
    "\n",
    "   - The odds of winning with the AI bot are 4 to 6 i.e. out of a total of 10 games, we won 4 games and lost 6 games. The probability of winning would be different. Hence, \n",
    "   \n",
    "   $$\n",
    "   Odds = \\dfrac{4}{6}\n",
    "   $$\n",
    "   \n",
    "   $$\n",
    "   probability \\ of \\ winning = \\dfrac{4}{10}\n",
    "   $$\n",
    "   \n",
    "   $$\n",
    "   probability \\ of \\ losing = \\dfrac{6}{10}\n",
    "   $$\n",
    "   \n",
    "   - We can also compute odds given the probability as.\n",
    "   \n",
    "   $$\n",
    "   Odds \\ of \\ winning = \\dfrac{probability \\ of \\ winning}{probability \\ of \\ losing} = \\dfrac{\\dfrac{4}{10}}{\\dfrac{6}{10}} = \\dfrac{4}{6}\n",
    "   $$\n",
    "   \n",
    "   - Now let's say we increase the number of games played between us and the AI bot to 100, 500, 1000 ... while keeping the number of games won by us as 4.\n",
    "   \n",
    "   $$\n",
    "   Odds \\ of \\ winning = \\dfrac{4}{6} = 0.6667\n",
    "   $$\n",
    "   \n",
    "   $$\n",
    "   Odds \\ of \\ winning = \\dfrac{4}{96} = 0.04167\n",
    "   $$\n",
    "   \n",
    "   $$\n",
    "   Odds \\ of \\ winning = \\dfrac{4}{496} = 0.0080645\n",
    "   $$\n",
    "   \n",
    "   $$\n",
    "   Odds \\ of \\ winning = \\dfrac{4}{996} = 0.004016\n",
    "   $$\n",
    "   \n",
    "   $$ \\vdots $$\n",
    "   \n",
    "   $$\n",
    "   Odds \\ of \\ winning = \\lim_{n \\to \\infty} \\dfrac{4}{n - 4} \\approx 0 ; n \\ is \\ total \\ no \\ of \\ games\n",
    "   $$\n",
    "   \n",
    "   \n",
    "   - Basically, the worse we play our odds of winning keep getting close to 0. Since we are losing more and more, this can also be called **odds against winning**. We can conclude that odds against winning stay between,\n",
    "   \n",
    "   $$\n",
    "    Odds \\ against \\ winning \\in (0 \\ , \\ 0.6667]\n",
    "   $$\n",
    "   \n",
    "   <br>\n",
    "   \n",
    "   - Similarly, if we keep playing better and keep winning against the AI bot. Let's say we increase the number of games to 100, 500, 1000 such that the AI bot only manages to win 6 games each time (although hard to believe). Then,\n",
    "   $$\n",
    "   Odds \\ of \\ winning = \\dfrac{4}{6} = 0.6667\n",
    "   $$\n",
    "   \n",
    "   $$\n",
    "   Odds \\ of \\ winning = \\dfrac{94}{6} = 15.67\n",
    "   $$\n",
    "   \n",
    "   $$\n",
    "   Odds \\ of \\ winning = \\dfrac{494}{6} = 82.33\n",
    "   $$\n",
    "   \n",
    "   $$\n",
    "   Odds \\ of \\ winning = \\dfrac{994}{6} = 165.67\n",
    "   $$\n",
    "   \n",
    "   $$\n",
    "   \\vdots\n",
    "   $$\n",
    "   \n",
    "   $$\n",
    "   Odds \\ of \\ winning = \\lim_{n \\to \\infty} \\dfrac{n-6}{6} \\approx \\infty ; n \\ is \\ total \\ no \\ of \\ games\n",
    "   $$\n",
    "   \n",
    "   - As in this case we are winning, we can term this odds as **odds in favor of winning**, which are quickly increasing as our performance gets better. Thus odds in favor of winning range between\n",
    "   \n",
    "   $$\n",
    "    Odds \\ in \\ favor \\ of \\ winning \\in [0.6667 \\ , \\ \\infty)\n",
    "   $$\n",
    "   \n",
    "   <br>\n",
    "   \n",
    "   - The plot below shall make things clear. You can simulate this plot yourself by running the code cell below.\n",
    "   \n",
    "   <img src='images/logodds_vs_odds.png' width='1000' height='400' >\n",
    "   \n",
    "   \n",
    "   \n",
    "   - In our scenario, we can see that the odds against us winning range from 0 to 0.6667 whereas odds in favor of us winning range from 0.6667 to infinity, which is a very large scale. This makes the magnitude of odds against look so much smaller to those in favor. **To balance the scale we use log of the odds**. The log of odds function is called Logits function.\n",
    "   \n",
    "   $$\n",
    "   \\text{Logit} \\ \\text{Function} = \\log(odds) = \\log(\\dfrac{p}{1-p})\n",
    "   $$\n",
    "\n",
    "<a name = Section232></a>\n",
    "### **2.3.2 <u>Logistic Regression and Log Odds</u>**\n",
    "\n",
    "   - As discussed in the previous section, we now know what the Logit function (log odds) is. Let's apply it to our model equation of Logistic Regression.\n",
    "   \n",
    "       $$\n",
    "       \\text{Logit} \\ \\text{Function} = \\log(odds) = \\log(\\dfrac{P(\\hat y^{(i)} = 1 \\ | \\ (x_1^{(i)}, x_2^{(i)}, ....) )}{1-P(\\hat y^{(i)} = 1 \\ | \\ (x_1^{(i)}, x_2^{(i)}, ....) )}) \n",
    "       = \\log(\\dfrac{P(\\hat y^{(i)} = 1 \\ | X^{(i)})}{1 - P(\\hat y^{(i)} = 1 \\ | X^{(i)})}\n",
    "       $$\n",
    "       \n",
    "       $$\n",
    "       \\log(\\dfrac{P(\\hat y^{(i)} = 1 \\ | X^{(i)})}{1 - P(\\hat y^{(i)} = 1 \\ | X^{(i)})}) \n",
    "       = \\log( \\dfrac{S(y^{(i)})}{1 - S(y^{(i)})} )\n",
    "       = \\log( \\dfrac{\\dfrac{1}{1 + e^{-(\\beta_0 + \\beta_1x_1^{(i)} + \\beta_2x_2^{(i)} + ..... + \\beta_px_p^{(i)})}} }{1 - \\dfrac{1}{1 + e^{-(\\beta_0 + \\beta_1x_1^{(i)} + \\beta_2x_2^{(i)} + ..... + \\beta_px_p^{(i)})}} } )\n",
    "       = \\log( e^{(\\beta_0 + \\beta_1x_1^{(i)} + \\beta_2x_2^{(i)} + ..... + \\beta_px_p^{(i)})} )\n",
    "       $$\n",
    "       \n",
    "       $\n",
    "       \\ \\ \\ \\text{Hence,}\n",
    "       $\n",
    "       \n",
    "       $$\n",
    "       \\log(\\dfrac{P(\\hat y^{(i)} = 1 \\ | X^{(i)})}{1 - P(\\hat y^{(i)} = 1 \\ | X^{(i)})}) \n",
    "       = \\beta_0 + \\beta_1x_1^{(i)} + \\beta_2x_2^{(i)} + ..... + \\beta_px_p^{(i)}\n",
    "       $$\n",
    "       \n",
    "       <br>\n",
    "       \n",
    "       - we can interpret the above equation as (similarly we did in Liner Regression) : Keeping the other coefficients constant, if we increase the coefficient $\\beta_2$ (let'say) then the chances (log odds) of winning (i.e. getting $\\hat y =1$) increases linearly since log odds has a linear relationship with the coefficients. Another interpretation of this can be: (we will consider $\\beta_2$ as the changing parameter)\n",
    "\n",
    "       $$\n",
    "       \\text{odds}_{\\beta_2}\n",
    "       = e ^ { \\beta_0 + \\beta_1x_1^{(i)} + \\beta_2x_2^{(i)} + ..... + \\beta_px_p^{(i)} }\n",
    "       $$\n",
    "\n",
    "       $$\n",
    "       \\text{odds}_{2 * \\beta_2}\n",
    "       = e ^ { \\beta_0 + \\beta_1x_1^{(i)} + 2 * \\beta_2x_2^{(i)} + ..... + \\beta_px_p^{(i)} }\n",
    "       $$\n",
    "\n",
    "       $$\n",
    "       \\dfrac{\\text{odds}_{2  \\beta_2}}{\\text{odds}_{\\beta_2}}\n",
    "       = e ^ {\\beta_2x_2^{(i)}}\n",
    "       $$\n",
    "\n",
    "       <br>\n",
    "   \n",
    "       - Thus we can say that, to more precise, if we double the coefficient $\\beta_2$ keeping all others constant then the odds of winning increases by a factor of $e ^ {\\beta_2x_2^{(i)}}$"
   ]
  },
  {
   "cell_type": "code",
   "execution_count": 1,
   "id": "16f64800",
   "metadata": {},
   "outputs": [
    {
     "data": {
      "image/png": "[encoded data removed]",
      "text/plain": [
       "<Figure size 1080x360 with 2 Axes>"
      ]
     },
     "metadata": {
      "needs_background": "light"
     },
     "output_type": "display_data"
    }
   ],
   "source": [
    "import matplotlib.pyplot as plt\n",
    "import numpy as np\n",
    "%matplotlib inline  \n",
    "\n",
    "def odds_vs_logodds(w_us, total_games): # wins vs total_games\n",
    "    \n",
    "    w_AI = total_games - w_us # wins by AI\n",
    "\n",
    "    fig, ax = plt.subplots(1,2, figsize=(15,5))\n",
    "    \n",
    "    plt.suptitle('Odds vs Log of odds (Chess games between us and AI bot)')\n",
    "\n",
    "    ### plotting the change in odds as we increase the no of games\n",
    "    n = np.arange(10,500)\n",
    "\n",
    "    wins = w_us\n",
    "    wins_AI = n - wins\n",
    "\n",
    "    ax[0].plot(n ,wins/wins_AI, label='odds against')\n",
    "\n",
    "    wins_AI = w_AI\n",
    "    wins = n - wins_AI\n",
    "\n",
    "    ax[0].plot(n ,wins/wins_AI, label='odds in favor')\n",
    "    ax[0].legend()\n",
    "    ax[0].set_xlabel('no of games')\n",
    "    ax[0].set_ylabel('odds')\n",
    "    ax[0].set_title('Odds')\n",
    "    ax[0].set_xlim([8, 100])\n",
    "    ax[0].set_ylim([0, 5])\n",
    "    ax[0].annotate('   ({}, {}) Base scenario'.format(total_games, np.round(w_us/w_AI,2)), xy=(total_games, w_us/w_AI))\n",
    "    \n",
    "    \n",
    "    \n",
    "    ### plotting the change in log of odds as we increase the no of games\n",
    "    n = np.arange(10,500)\n",
    "\n",
    "    wins = w_us\n",
    "    wins_AI = n - wins\n",
    "\n",
    "    ax[1].plot(n ,np.log(wins/wins_AI), label='odds against')\n",
    "\n",
    "    wins_AI = w_AI\n",
    "    wins = n - wins_AI\n",
    "\n",
    "    ax[1].plot(n ,np.log(wins/wins_AI), label='odds in favor')\n",
    "    ax[1].legend()\n",
    "    ax[1].set_xlabel('no of games')\n",
    "    ax[1].set_ylabel('log of odds')\n",
    "    ax[1].set_title('Log of Odds') \n",
    "    \n",
    "    plt.show()\n",
    "    \n",
    "### base case, as in the scenario above we had. You can play around with the inputs (wins, total_games)\n",
    "odds_vs_logodds(4, 10)"
   ]
  },
  {
   "cell_type": "markdown",
   "id": "f1822fc6",
   "metadata": {},
   "source": [
    "<a name = Section3></a>\n",
    "# **3 Case Study (Bank Marketing)**"
   ]
  },
  {
   "cell_type": "markdown",
   "id": "d8e30b7c",
   "metadata": {},
   "source": [
    "<a name = Section31></a>\n",
    "## **3.1 About the Dataset**\n",
    "\n",
    "   - The data is related with __direct marketing campaigns__ (phone calls) of a Portuguese banking institution.\n",
    "   - The classification goal is to predict if the client will subscribe a __term deposit (variable y)__.\n",
    "   - The data is related with direct marketing campaigns of a Portuguese banking institution.\n",
    "   - The marketing campaigns were based on phone calls. Often, more than one contact to the same client was required, in order to access if the __product (bank term deposit)__ would be __('yes')__ or __('no')__ subscribed.\n",
    "   - Dataset from : http://archive.ics.uci.edu/ml/datasets/Bank+Marketing#\n"
   ]
  },
  {
   "cell_type": "code",
   "execution_count": 2,
   "id": "df3617c3",
   "metadata": {},
   "outputs": [
    {
     "data": {
      "text/html": [
       "<div>\n",
       "<style scoped>\n",
       "    .dataframe tbody tr th:only-of-type {\n",
       "        vertical-align: middle;\n",
       "    }\n",
       "\n",
       "    .dataframe tbody tr th {\n",
       "        vertical-align: top;\n",
       "    }\n",
       "\n",
       "    .dataframe thead th {\n",
       "        text-align: right;\n",
       "    }\n",
       "</style>\n",
       "<table border=\"1\" class=\"dataframe\">\n",
       "  <thead>\n",
       "    <tr style=\"text-align: right;\">\n",
       "      <th></th>\n",
       "      <th>age</th>\n",
       "      <th>job</th>\n",
       "      <th>marital</th>\n",
       "      <th>education</th>\n",
       "      <th>default</th>\n",
       "      <th>housing</th>\n",
       "      <th>loan</th>\n",
       "      <th>contact</th>\n",
       "      <th>month</th>\n",
       "      <th>day_of_week</th>\n",
       "      <th>...</th>\n",
       "      <th>campaign</th>\n",
       "      <th>pdays</th>\n",
       "      <th>previous</th>\n",
       "      <th>poutcome</th>\n",
       "      <th>emp.var.rate</th>\n",
       "      <th>cons.price.idx</th>\n",
       "      <th>cons.conf.idx</th>\n",
       "      <th>euribor3m</th>\n",
       "      <th>nr.employed</th>\n",
       "      <th>y</th>\n",
       "    </tr>\n",
       "  </thead>\n",
       "  <tbody>\n",
       "    <tr>\n",
       "      <th>0</th>\n",
       "      <td>46</td>\n",
       "      <td>blue-collar</td>\n",
       "      <td>married</td>\n",
       "      <td>basic.9y</td>\n",
       "      <td>no</td>\n",
       "      <td>no</td>\n",
       "      <td>yes</td>\n",
       "      <td>telephone</td>\n",
       "      <td>may</td>\n",
       "      <td>tue</td>\n",
       "      <td>...</td>\n",
       "      <td>3</td>\n",
       "      <td>999</td>\n",
       "      <td>0</td>\n",
       "      <td>nonexistent</td>\n",
       "      <td>1.1</td>\n",
       "      <td>93.994</td>\n",
       "      <td>-36.4</td>\n",
       "      <td>4.857</td>\n",
       "      <td>5191.0</td>\n",
       "      <td>no</td>\n",
       "    </tr>\n",
       "    <tr>\n",
       "      <th>1</th>\n",
       "      <td>29</td>\n",
       "      <td>admin.</td>\n",
       "      <td>single</td>\n",
       "      <td>university.degree</td>\n",
       "      <td>no</td>\n",
       "      <td>no</td>\n",
       "      <td>no</td>\n",
       "      <td>cellular</td>\n",
       "      <td>may</td>\n",
       "      <td>wed</td>\n",
       "      <td>...</td>\n",
       "      <td>2</td>\n",
       "      <td>999</td>\n",
       "      <td>0</td>\n",
       "      <td>nonexistent</td>\n",
       "      <td>-1.8</td>\n",
       "      <td>92.893</td>\n",
       "      <td>-46.2</td>\n",
       "      <td>1.281</td>\n",
       "      <td>5099.1</td>\n",
       "      <td>no</td>\n",
       "    </tr>\n",
       "    <tr>\n",
       "      <th>2</th>\n",
       "      <td>50</td>\n",
       "      <td>management</td>\n",
       "      <td>married</td>\n",
       "      <td>university.degree</td>\n",
       "      <td>no</td>\n",
       "      <td>yes</td>\n",
       "      <td>yes</td>\n",
       "      <td>cellular</td>\n",
       "      <td>apr</td>\n",
       "      <td>fri</td>\n",
       "      <td>...</td>\n",
       "      <td>1</td>\n",
       "      <td>999</td>\n",
       "      <td>0</td>\n",
       "      <td>nonexistent</td>\n",
       "      <td>-1.8</td>\n",
       "      <td>93.075</td>\n",
       "      <td>-47.1</td>\n",
       "      <td>1.405</td>\n",
       "      <td>5099.1</td>\n",
       "      <td>no</td>\n",
       "    </tr>\n",
       "    <tr>\n",
       "      <th>3</th>\n",
       "      <td>31</td>\n",
       "      <td>admin.</td>\n",
       "      <td>married</td>\n",
       "      <td>high.school</td>\n",
       "      <td>unknown</td>\n",
       "      <td>yes</td>\n",
       "      <td>no</td>\n",
       "      <td>telephone</td>\n",
       "      <td>may</td>\n",
       "      <td>thu</td>\n",
       "      <td>...</td>\n",
       "      <td>2</td>\n",
       "      <td>999</td>\n",
       "      <td>0</td>\n",
       "      <td>nonexistent</td>\n",
       "      <td>1.1</td>\n",
       "      <td>93.994</td>\n",
       "      <td>-36.4</td>\n",
       "      <td>4.860</td>\n",
       "      <td>5191.0</td>\n",
       "      <td>no</td>\n",
       "    </tr>\n",
       "    <tr>\n",
       "      <th>4</th>\n",
       "      <td>32</td>\n",
       "      <td>admin.</td>\n",
       "      <td>single</td>\n",
       "      <td>high.school</td>\n",
       "      <td>no</td>\n",
       "      <td>yes</td>\n",
       "      <td>no</td>\n",
       "      <td>cellular</td>\n",
       "      <td>jun</td>\n",
       "      <td>tue</td>\n",
       "      <td>...</td>\n",
       "      <td>1</td>\n",
       "      <td>999</td>\n",
       "      <td>0</td>\n",
       "      <td>nonexistent</td>\n",
       "      <td>-2.9</td>\n",
       "      <td>92.963</td>\n",
       "      <td>-40.8</td>\n",
       "      <td>1.262</td>\n",
       "      <td>5076.2</td>\n",
       "      <td>yes</td>\n",
       "    </tr>\n",
       "  </tbody>\n",
       "</table>\n",
       "<p>5 rows × 21 columns</p>\n",
       "</div>"
      ],
      "text/plain": [
       "   age          job  marital          education  default housing loan  \\\n",
       "0   46  blue-collar  married           basic.9y       no      no  yes   \n",
       "1   29       admin.   single  university.degree       no      no   no   \n",
       "2   50   management  married  university.degree       no     yes  yes   \n",
       "3   31       admin.  married        high.school  unknown     yes   no   \n",
       "4   32       admin.   single        high.school       no     yes   no   \n",
       "\n",
       "     contact month day_of_week  ...  campaign  pdays  previous     poutcome  \\\n",
       "0  telephone   may         tue  ...         3    999         0  nonexistent   \n",
       "1   cellular   may         wed  ...         2    999         0  nonexistent   \n",
       "2   cellular   apr         fri  ...         1    999         0  nonexistent   \n",
       "3  telephone   may         thu  ...         2    999         0  nonexistent   \n",
       "4   cellular   jun         tue  ...         1    999         0  nonexistent   \n",
       "\n",
       "  emp.var.rate  cons.price.idx  cons.conf.idx  euribor3m  nr.employed    y  \n",
       "0          1.1          93.994          -36.4      4.857       5191.0   no  \n",
       "1         -1.8          92.893          -46.2      1.281       5099.1   no  \n",
       "2         -1.8          93.075          -47.1      1.405       5099.1   no  \n",
       "3          1.1          93.994          -36.4      4.860       5191.0   no  \n",
       "4         -2.9          92.963          -40.8      1.262       5076.2  yes  \n",
       "\n",
       "[5 rows x 21 columns]"
      ]
     },
     "execution_count": 2,
     "metadata": {},
     "output_type": "execute_result"
    }
   ],
   "source": [
    "import pandas as pd\n",
    "import numpy as np\n",
    "bank = pd.read_csv('https://raw.githubusercontent.com/insaid2018/Term-2/master/Data/bank.csv')\n",
    "bank.head() "
   ]
  },
  {
   "cell_type": "markdown",
   "id": "640c35ed",
   "metadata": {},
   "source": [
    "<a name = Section32></a>\n",
    "## **3.2 Preparing Data and EDA**"
   ]
  },
  {
   "cell_type": "code",
   "execution_count": 3,
   "id": "183c2e87",
   "metadata": {},
   "outputs": [
    {
     "data": {
      "text/plain": [
       "(10297, 21)"
      ]
     },
     "execution_count": 3,
     "metadata": {},
     "output_type": "execute_result"
    }
   ],
   "source": [
    "bank.shape"
   ]
  },
  {
   "cell_type": "code",
   "execution_count": 4,
   "id": "785e4e25",
   "metadata": {},
   "outputs": [
    {
     "data": {
      "text/plain": [
       "Index(['age', 'job', 'marital', 'education', 'default', 'housing', 'loan',\n",
       "       'contact', 'month', 'day_of_week', 'duration', 'campaign', 'pdays',\n",
       "       'previous', 'poutcome', 'emp.var.rate', 'cons.price.idx',\n",
       "       'cons.conf.idx', 'euribor3m', 'nr.employed', 'y'],\n",
       "      dtype='object')"
      ]
     },
     "execution_count": 4,
     "metadata": {},
     "output_type": "execute_result"
    }
   ],
   "source": [
    "bank.columns"
   ]
  },
  {
   "cell_type": "code",
   "execution_count": 5,
   "id": "4dcb8761",
   "metadata": {},
   "outputs": [
    {
     "data": {
      "text/html": [
       "<div>\n",
       "<style scoped>\n",
       "    .dataframe tbody tr th:only-of-type {\n",
       "        vertical-align: middle;\n",
       "    }\n",
       "\n",
       "    .dataframe tbody tr th {\n",
       "        vertical-align: top;\n",
       "    }\n",
       "\n",
       "    .dataframe thead th {\n",
       "        text-align: right;\n",
       "    }\n",
       "</style>\n",
       "<table border=\"1\" class=\"dataframe\">\n",
       "  <thead>\n",
       "    <tr style=\"text-align: right;\">\n",
       "      <th></th>\n",
       "      <th>age</th>\n",
       "      <th>duration</th>\n",
       "      <th>campaign</th>\n",
       "      <th>pdays</th>\n",
       "      <th>previous</th>\n",
       "      <th>emp.var.rate</th>\n",
       "      <th>cons.price.idx</th>\n",
       "      <th>cons.conf.idx</th>\n",
       "      <th>euribor3m</th>\n",
       "      <th>nr.employed</th>\n",
       "    </tr>\n",
       "  </thead>\n",
       "  <tbody>\n",
       "    <tr>\n",
       "      <th>count</th>\n",
       "      <td>10297.000000</td>\n",
       "      <td>10297.000000</td>\n",
       "      <td>10297.000000</td>\n",
       "      <td>10297.000000</td>\n",
       "      <td>10297.000000</td>\n",
       "      <td>10297.000000</td>\n",
       "      <td>10297.000000</td>\n",
       "      <td>10297.000000</td>\n",
       "      <td>10297.000000</td>\n",
       "      <td>10297.000000</td>\n",
       "    </tr>\n",
       "    <tr>\n",
       "      <th>mean</th>\n",
       "      <td>40.080606</td>\n",
       "      <td>261.388268</td>\n",
       "      <td>2.561134</td>\n",
       "      <td>963.609692</td>\n",
       "      <td>0.171506</td>\n",
       "      <td>0.077256</td>\n",
       "      <td>93.574206</td>\n",
       "      <td>-40.445780</td>\n",
       "      <td>3.621923</td>\n",
       "      <td>5166.850442</td>\n",
       "    </tr>\n",
       "    <tr>\n",
       "      <th>std</th>\n",
       "      <td>10.472190</td>\n",
       "      <td>263.722874</td>\n",
       "      <td>2.827084</td>\n",
       "      <td>184.098592</td>\n",
       "      <td>0.496992</td>\n",
       "      <td>1.576732</td>\n",
       "      <td>0.577502</td>\n",
       "      <td>4.622221</td>\n",
       "      <td>1.734170</td>\n",
       "      <td>72.492914</td>\n",
       "    </tr>\n",
       "    <tr>\n",
       "      <th>min</th>\n",
       "      <td>18.000000</td>\n",
       "      <td>0.000000</td>\n",
       "      <td>1.000000</td>\n",
       "      <td>0.000000</td>\n",
       "      <td>0.000000</td>\n",
       "      <td>-3.400000</td>\n",
       "      <td>92.201000</td>\n",
       "      <td>-50.800000</td>\n",
       "      <td>0.634000</td>\n",
       "      <td>4963.600000</td>\n",
       "    </tr>\n",
       "    <tr>\n",
       "      <th>25%</th>\n",
       "      <td>32.000000</td>\n",
       "      <td>103.000000</td>\n",
       "      <td>1.000000</td>\n",
       "      <td>999.000000</td>\n",
       "      <td>0.000000</td>\n",
       "      <td>-1.800000</td>\n",
       "      <td>93.075000</td>\n",
       "      <td>-42.700000</td>\n",
       "      <td>1.344000</td>\n",
       "      <td>5099.100000</td>\n",
       "    </tr>\n",
       "    <tr>\n",
       "      <th>50%</th>\n",
       "      <td>38.000000</td>\n",
       "      <td>180.000000</td>\n",
       "      <td>2.000000</td>\n",
       "      <td>999.000000</td>\n",
       "      <td>0.000000</td>\n",
       "      <td>1.100000</td>\n",
       "      <td>93.749000</td>\n",
       "      <td>-41.800000</td>\n",
       "      <td>4.857000</td>\n",
       "      <td>5191.000000</td>\n",
       "    </tr>\n",
       "    <tr>\n",
       "      <th>75%</th>\n",
       "      <td>47.000000</td>\n",
       "      <td>327.000000</td>\n",
       "      <td>3.000000</td>\n",
       "      <td>999.000000</td>\n",
       "      <td>0.000000</td>\n",
       "      <td>1.400000</td>\n",
       "      <td>93.994000</td>\n",
       "      <td>-36.400000</td>\n",
       "      <td>4.961000</td>\n",
       "      <td>5228.100000</td>\n",
       "    </tr>\n",
       "    <tr>\n",
       "      <th>max</th>\n",
       "      <td>94.000000</td>\n",
       "      <td>3643.000000</td>\n",
       "      <td>56.000000</td>\n",
       "      <td>999.000000</td>\n",
       "      <td>6.000000</td>\n",
       "      <td>1.400000</td>\n",
       "      <td>94.767000</td>\n",
       "      <td>-26.900000</td>\n",
       "      <td>5.045000</td>\n",
       "      <td>5228.100000</td>\n",
       "    </tr>\n",
       "  </tbody>\n",
       "</table>\n",
       "</div>"
      ],
      "text/plain": [
       "                age      duration      campaign         pdays      previous  \\\n",
       "count  10297.000000  10297.000000  10297.000000  10297.000000  10297.000000   \n",
       "mean      40.080606    261.388268      2.561134    963.609692      0.171506   \n",
       "std       10.472190    263.722874      2.827084    184.098592      0.496992   \n",
       "min       18.000000      0.000000      1.000000      0.000000      0.000000   \n",
       "25%       32.000000    103.000000      1.000000    999.000000      0.000000   \n",
       "50%       38.000000    180.000000      2.000000    999.000000      0.000000   \n",
       "75%       47.000000    327.000000      3.000000    999.000000      0.000000   \n",
       "max       94.000000   3643.000000     56.000000    999.000000      6.000000   \n",
       "\n",
       "       emp.var.rate  cons.price.idx  cons.conf.idx     euribor3m   nr.employed  \n",
       "count  10297.000000    10297.000000   10297.000000  10297.000000  10297.000000  \n",
       "mean       0.077256       93.574206     -40.445780      3.621923   5166.850442  \n",
       "std        1.576732        0.577502       4.622221      1.734170     72.492914  \n",
       "min       -3.400000       92.201000     -50.800000      0.634000   4963.600000  \n",
       "25%       -1.800000       93.075000     -42.700000      1.344000   5099.100000  \n",
       "50%        1.100000       93.749000     -41.800000      4.857000   5191.000000  \n",
       "75%        1.400000       93.994000     -36.400000      4.961000   5228.100000  \n",
       "max        1.400000       94.767000     -26.900000      5.045000   5228.100000  "
      ]
     },
     "execution_count": 5,
     "metadata": {},
     "output_type": "execute_result"
    }
   ],
   "source": [
    "### descriptive statistics\n",
    "\n",
    "bank.describe()"
   ]
  },
  {
   "cell_type": "code",
   "execution_count": 6,
   "id": "7ea6c722",
   "metadata": {},
   "outputs": [
    {
     "name": "stdout",
     "output_type": "stream",
     "text": [
      "<class 'pandas.core.frame.DataFrame'>\n",
      "RangeIndex: 10297 entries, 0 to 10296\n",
      "Data columns (total 21 columns):\n",
      " #   Column          Non-Null Count  Dtype  \n",
      "---  ------          --------------  -----  \n",
      " 0   age             10297 non-null  int64  \n",
      " 1   job             10297 non-null  object \n",
      " 2   marital         10297 non-null  object \n",
      " 3   education       10297 non-null  object \n",
      " 4   default         10297 non-null  object \n",
      " 5   housing         10297 non-null  object \n",
      " 6   loan            10297 non-null  object \n",
      " 7   contact         10297 non-null  object \n",
      " 8   month           10297 non-null  object \n",
      " 9   day_of_week     10297 non-null  object \n",
      " 10  duration        10297 non-null  int64  \n",
      " 11  campaign        10297 non-null  int64  \n",
      " 12  pdays           10297 non-null  int64  \n",
      " 13  previous        10297 non-null  int64  \n",
      " 14  poutcome        10297 non-null  object \n",
      " 15  emp.var.rate    10297 non-null  float64\n",
      " 16  cons.price.idx  10297 non-null  float64\n",
      " 17  cons.conf.idx   10297 non-null  float64\n",
      " 18  euribor3m       10297 non-null  float64\n",
      " 19  nr.employed     10297 non-null  float64\n",
      " 20  y               10297 non-null  object \n",
      "dtypes: float64(5), int64(5), object(11)\n",
      "memory usage: 1.6+ MB\n"
     ]
    }
   ],
   "source": [
    "### data info\n",
    "\n",
    "bank.info()"
   ]
  },
  {
   "cell_type": "code",
   "execution_count": 7,
   "id": "d7bf79db",
   "metadata": {},
   "outputs": [
    {
     "data": {
      "text/plain": [
       "array(['blue-collar', 'admin.', 'management', 'technician', 'retired',\n",
       "       'services', 'entrepreneur', 'self-employed', 'unemployed',\n",
       "       'student', 'housemaid', 'unknown'], dtype=object)"
      ]
     },
     "execution_count": 7,
     "metadata": {},
     "output_type": "execute_result"
    }
   ],
   "source": [
    "bank['job'].unique()"
   ]
  },
  {
   "cell_type": "code",
   "execution_count": 8,
   "id": "46c3ba3b",
   "metadata": {},
   "outputs": [
    {
     "name": "stdout",
     "output_type": "stream",
     "text": [
      "job has these unique values ['blue-collar' 'admin.' 'management' 'technician' 'retired' 'services'\n",
      " 'entrepreneur' 'self-employed' 'unemployed' 'student' 'housemaid'\n",
      " 'unknown'] \n",
      "\n",
      "marital has these unique values ['married' 'single' 'divorced' 'unknown'] \n",
      "\n",
      "education has these unique values ['basic.9y' 'university.degree' 'high.school' 'professional.course'\n",
      " 'basic.6y' 'basic.4y' 'unknown' 'illiterate'] \n",
      "\n",
      "housing has these unique values ['no' 'yes' 'unknown'] \n",
      "\n",
      "loan has these unique values ['yes' 'no' 'unknown'] \n",
      "\n",
      "contact has these unique values ['telephone' 'cellular'] \n",
      "\n",
      "month has these unique values ['may' 'apr' 'jun' 'aug' 'jul' 'oct' 'nov' 'dec' 'sep' 'mar'] \n",
      "\n",
      "day_of_week has these unique values ['tue' 'wed' 'fri' 'thu' 'mon'] \n",
      "\n",
      "campaign has these unique values [ 3  2  1  4  5  6 14  7 21  9 12  8 17 10 20 33 29 15 23 11 18 13 19 39\n",
      " 27 16 31 34 26 28 24 32 22 56 25 40] \n",
      "\n",
      "poutcome has these unique values ['nonexistent' 'failure' 'success'] \n",
      "\n",
      "pdays has these unique values [999   6   9   2  16   3   7   4  12  13   0   1   5  11  26  10   8  14\n",
      "  15  20  18  17] \n",
      "\n",
      "emp.var.rate has these unique values [ 1.1 -1.8 -2.9  1.4 -3.4 -1.7 -0.1 -3.  -1.1] \n",
      "\n",
      "cons.price.idx has these unique values [93.994 92.893 93.075 92.963 93.444 94.465 93.749 93.918 92.431 94.215\n",
      " 94.027 93.2   92.649 92.713 94.199 92.843 92.201 93.876 92.379 93.369\n",
      " 93.798 94.601 94.055 94.767 92.469] \n",
      "\n",
      "cons.conf.idx has these unique values [-36.4 -46.2 -47.1 -40.8 -36.1 -41.8 -34.6 -42.7 -26.9 -40.3 -38.3 -42.\n",
      " -30.1 -33.  -37.5 -50.  -31.4 -40.  -29.8 -34.8 -40.4 -49.5 -39.8 -50.8\n",
      " -33.6] \n",
      "\n",
      "euribor3m has these unique values [4.857 1.281 1.405 4.86  1.262 4.963 4.959 1.313 4.967 0.663 1.299 4.966\n",
      " 4.958 1.25  4.96  4.856 4.961 0.728 0.899 4.858 4.964 4.855 4.866 4.864\n",
      " 1.365 1.354 4.962 4.968 1.244 0.904 1.264 4.021 1.453 1.334 4.076 4.957\n",
      " 1.266 0.72  4.191 4.153 0.896 4.859 4.965 1.26  1.291 1.215 4.12  4.865\n",
      " 1.41  0.715 1.445 1.286 0.714 1.344 0.893 1.327 0.879 1.757 1.27  4.97\n",
      " 1.268 0.835 0.645 0.699 0.854 0.849 0.781 0.73  1.423 0.773 0.635 0.643\n",
      " 1.415 1.483 0.88  0.881 4.947 1.799 0.89  0.877 0.797 0.884 0.724 0.84\n",
      " 0.744 0.638 0.695 0.75  0.639 0.821 0.77  0.843 1.372 0.905 0.861 4.918\n",
      " 0.803 0.682 0.737 0.873 0.869 4.955 0.838 1.259 0.819 0.802 0.652 0.829\n",
      " 1.    0.987 0.9   0.732 0.851 0.729 1.05  0.642 0.719 1.556 0.883 0.731\n",
      " 4.921 0.741 0.716 1.028 4.956 0.782 0.876 0.889 1.479 0.697 0.788 0.885\n",
      " 1.52  0.898 0.713 0.692 0.878 0.74  0.761 0.822 0.701 0.739 0.809 1.029\n",
      " 1.041 0.834 1.466 1.726 1.072 0.706 1.048 0.655 0.702 0.825 0.959 0.637\n",
      " 1.392 0.707 0.977 4.912 1.085 1.435 0.722 1.206 1.235 1.498 0.688 1.406\n",
      " 0.846 0.71  0.634 0.754 0.712 1.629 0.668 1.043 0.748 0.813 4.936 0.753\n",
      " 0.733 4.733 1.538 0.636 1.614 0.903 0.65  1.703 1.687 0.886 0.723 0.742\n",
      " 0.87  3.901 1.03  1.811 0.755 0.859 4.406 1.044 0.767 1.252 0.778 0.646\n",
      " 0.708 1.4   0.768 0.653 1.531 1.032 0.762 0.651 0.743 1.025 0.654 1.008\n",
      " 0.965 0.749 0.827 4.7   0.882 0.718 1.602 0.972 1.059 1.663 1.04  1.099\n",
      " 0.685 1.031 0.644 0.683 0.891 0.659 0.735 1.64  1.037 1.046 4.592 0.717\n",
      " 0.677 1.51  5.045 1.016 0.953 0.81  0.727 0.993 4.794 0.982 0.709 3.853\n",
      " 0.672 1.039 1.778 0.649 4.827 0.793 4.663 0.79  1.548 0.64  1.65  0.69\n",
      " 4.76  0.766 0.895 0.914 1.018 0.704 0.985 1.049 4.286 0.908 0.937 0.888\n",
      " 0.684 0.7   4.245 0.771 1.224 4.474] \n",
      "\n"
     ]
    }
   ],
   "source": [
    "#### Check unique values of the cols below\n",
    "\n",
    "cols_unique = ['job', 'marital', 'education', 'housing', 'loan', 'contact', 'month', 'day_of_week', 'campaign','poutcome',\\\n",
    " 'pdays', 'emp.var.rate', 'cons.price.idx', 'cons.conf.idx', 'euribor3m']\n",
    "\n",
    "for c in cols_unique:\n",
    "    print(\"{} has these unique values {} \\n\".format(c, bank[c].unique()))"
   ]
  },
  {
   "cell_type": "code",
   "execution_count": 9,
   "id": "c249bd03",
   "metadata": {},
   "outputs": [
    {
     "name": "stdout",
     "output_type": "stream",
     "text": [
      "Max of age is :  94\n",
      "Min of age is :  18\n",
      "Are there any null values ? :  False\n"
     ]
    }
   ],
   "source": [
    "### Min , max, and null values of age column\n",
    "\n",
    "print(\"Max of age is : \",bank['age'].max())\n",
    "print(\"Min of age is : \",bank['age'].min())\n",
    "print(\"Are there any null values ? : \", any(bank['age'].isnull()))"
   ]
  },
  {
   "cell_type": "code",
   "execution_count": 10,
   "id": "f7dd4600",
   "metadata": {},
   "outputs": [
    {
     "data": {
      "text/plain": [
       "no     9137\n",
       "yes    1160\n",
       "Name: y, dtype: int64"
      ]
     },
     "execution_count": 10,
     "metadata": {},
     "output_type": "execute_result"
    }
   ],
   "source": [
    "### Check the value counts of target column y\n",
    "\n",
    "bank['y'].value_counts()"
   ]
  },
  {
   "cell_type": "code",
   "execution_count": 11,
   "id": "d2636672",
   "metadata": {},
   "outputs": [],
   "source": [
    "### Create a function that removes columns\n",
    "\n",
    "def remove_outlier(df, col_name):\n",
    "    q1 = df[col_name].quantile(0.25)\n",
    "    q3 = df[col_name].quantile(0.75)\n",
    "    print(q1, q3)\n",
    "    IQR = q3 - q1\n",
    "    upper_bound = q3 + 1.5 * IQR\n",
    "    lower_bound = df[col_name].min()\n",
    "    \n",
    "    print(upper_bound, lower_bound)\n",
    "    \n",
    "    return df[(df[col_name] > lower_bound) & (df[col_name] < upper_bound)]"
   ]
  },
  {
   "cell_type": "code",
   "execution_count": 12,
   "id": "f6bb8521",
   "metadata": {},
   "outputs": [
    {
     "data": {
      "text/plain": [
       "(10297, 21)"
      ]
     },
     "execution_count": 12,
     "metadata": {},
     "output_type": "execute_result"
    }
   ],
   "source": [
    "bank.shape"
   ]
  },
  {
   "cell_type": "code",
   "execution_count": 13,
   "id": "9d3bcf65",
   "metadata": {},
   "outputs": [
    {
     "name": "stdout",
     "output_type": "stream",
     "text": [
      "32.0 47.0\n",
      "69.5 18\n"
     ]
    }
   ],
   "source": [
    "### remove outliers from the 'age' column\n",
    "\n",
    "bank = remove_outlier(bank, 'age')"
   ]
  },
  {
   "cell_type": "code",
   "execution_count": 14,
   "id": "bdb8ca22",
   "metadata": {},
   "outputs": [
    {
     "data": {
      "text/plain": [
       "(10170, 21)"
      ]
     },
     "execution_count": 14,
     "metadata": {},
     "output_type": "execute_result"
    }
   ],
   "source": [
    "bank.shape"
   ]
  },
  {
   "cell_type": "code",
   "execution_count": 15,
   "id": "f90acfe6",
   "metadata": {},
   "outputs": [
    {
     "name": "stdout",
     "output_type": "stream",
     "text": [
      "1.0 3.0\n",
      "6.0 1\n"
     ]
    }
   ],
   "source": [
    "### remove outliers from the 'campaign' column\n",
    "\n",
    "bank = remove_outlier(bank, 'campaign')"
   ]
  },
  {
   "cell_type": "code",
   "execution_count": 16,
   "id": "3c981350",
   "metadata": {},
   "outputs": [
    {
     "data": {
      "text/plain": [
       "(4979, 21)"
      ]
     },
     "execution_count": 16,
     "metadata": {},
     "output_type": "execute_result"
    }
   ],
   "source": [
    "bank.shape"
   ]
  },
  {
   "cell_type": "code",
   "execution_count": 17,
   "id": "88b90249",
   "metadata": {},
   "outputs": [
    {
     "name": "stdout",
     "output_type": "stream",
     "text": [
      "109.0 339.0\n",
      "684.0 0\n"
     ]
    }
   ],
   "source": [
    "### remove outliers from the 'duration' column\n",
    "\n",
    "bank = remove_outlier(bank, 'duration')"
   ]
  },
  {
   "cell_type": "code",
   "execution_count": 18,
   "id": "ba7a0d28",
   "metadata": {},
   "outputs": [
    {
     "data": {
      "text/plain": [
       "(4621, 21)"
      ]
     },
     "execution_count": 18,
     "metadata": {},
     "output_type": "execute_result"
    }
   ],
   "source": [
    "bank.shape"
   ]
  },
  {
   "cell_type": "code",
   "execution_count": 19,
   "id": "ca26262a",
   "metadata": {},
   "outputs": [],
   "source": [
    "### Divide the dataset into categorical and continuous based on their data types\n",
    "\n",
    "# categorical\n",
    "bank_cat=bank[['job', 'marital','default', 'education', 'loan', 'housing', \\\n",
    "               'contact', 'month', 'day_of_week', 'poutcome', 'y']]\n",
    "\n",
    "# continuous\n",
    "bank_cont = bank.drop(['job', 'marital','default', 'education', 'loan', 'housing', \\\n",
    "                       'contact', 'month', 'day_of_week', 'poutcome', 'y'], axis=1)"
   ]
  },
  {
   "cell_type": "code",
   "execution_count": 20,
   "id": "af0ed8db",
   "metadata": {},
   "outputs": [
    {
     "data": {
      "text/html": [
       "<div>\n",
       "<style scoped>\n",
       "    .dataframe tbody tr th:only-of-type {\n",
       "        vertical-align: middle;\n",
       "    }\n",
       "\n",
       "    .dataframe tbody tr th {\n",
       "        vertical-align: top;\n",
       "    }\n",
       "\n",
       "    .dataframe thead th {\n",
       "        text-align: right;\n",
       "    }\n",
       "</style>\n",
       "<table border=\"1\" class=\"dataframe\">\n",
       "  <thead>\n",
       "    <tr style=\"text-align: right;\">\n",
       "      <th></th>\n",
       "      <th>job</th>\n",
       "      <th>marital</th>\n",
       "      <th>default</th>\n",
       "      <th>education</th>\n",
       "      <th>loan</th>\n",
       "      <th>housing</th>\n",
       "      <th>contact</th>\n",
       "      <th>month</th>\n",
       "      <th>day_of_week</th>\n",
       "      <th>poutcome</th>\n",
       "      <th>y</th>\n",
       "    </tr>\n",
       "  </thead>\n",
       "  <tbody>\n",
       "    <tr>\n",
       "      <th>0</th>\n",
       "      <td>blue-collar</td>\n",
       "      <td>married</td>\n",
       "      <td>no</td>\n",
       "      <td>basic.9y</td>\n",
       "      <td>yes</td>\n",
       "      <td>no</td>\n",
       "      <td>telephone</td>\n",
       "      <td>may</td>\n",
       "      <td>tue</td>\n",
       "      <td>nonexistent</td>\n",
       "      <td>no</td>\n",
       "    </tr>\n",
       "    <tr>\n",
       "      <th>1</th>\n",
       "      <td>admin.</td>\n",
       "      <td>single</td>\n",
       "      <td>no</td>\n",
       "      <td>university.degree</td>\n",
       "      <td>no</td>\n",
       "      <td>no</td>\n",
       "      <td>cellular</td>\n",
       "      <td>may</td>\n",
       "      <td>wed</td>\n",
       "      <td>nonexistent</td>\n",
       "      <td>no</td>\n",
       "    </tr>\n",
       "    <tr>\n",
       "      <th>3</th>\n",
       "      <td>admin.</td>\n",
       "      <td>married</td>\n",
       "      <td>unknown</td>\n",
       "      <td>high.school</td>\n",
       "      <td>no</td>\n",
       "      <td>yes</td>\n",
       "      <td>telephone</td>\n",
       "      <td>may</td>\n",
       "      <td>thu</td>\n",
       "      <td>nonexistent</td>\n",
       "      <td>no</td>\n",
       "    </tr>\n",
       "    <tr>\n",
       "      <th>5</th>\n",
       "      <td>admin.</td>\n",
       "      <td>single</td>\n",
       "      <td>no</td>\n",
       "      <td>university.degree</td>\n",
       "      <td>yes</td>\n",
       "      <td>yes</td>\n",
       "      <td>cellular</td>\n",
       "      <td>aug</td>\n",
       "      <td>mon</td>\n",
       "      <td>nonexistent</td>\n",
       "      <td>no</td>\n",
       "    </tr>\n",
       "    <tr>\n",
       "      <th>8</th>\n",
       "      <td>blue-collar</td>\n",
       "      <td>married</td>\n",
       "      <td>unknown</td>\n",
       "      <td>professional.course</td>\n",
       "      <td>no</td>\n",
       "      <td>no</td>\n",
       "      <td>cellular</td>\n",
       "      <td>may</td>\n",
       "      <td>wed</td>\n",
       "      <td>failure</td>\n",
       "      <td>no</td>\n",
       "    </tr>\n",
       "  </tbody>\n",
       "</table>\n",
       "</div>"
      ],
      "text/plain": [
       "           job  marital  default            education loan housing    contact  \\\n",
       "0  blue-collar  married       no             basic.9y  yes      no  telephone   \n",
       "1       admin.   single       no    university.degree   no      no   cellular   \n",
       "3       admin.  married  unknown          high.school   no     yes  telephone   \n",
       "5       admin.   single       no    university.degree  yes     yes   cellular   \n",
       "8  blue-collar  married  unknown  professional.course   no      no   cellular   \n",
       "\n",
       "  month day_of_week     poutcome   y  \n",
       "0   may         tue  nonexistent  no  \n",
       "1   may         wed  nonexistent  no  \n",
       "3   may         thu  nonexistent  no  \n",
       "5   aug         mon  nonexistent  no  \n",
       "8   may         wed      failure  no  "
      ]
     },
     "execution_count": 20,
     "metadata": {},
     "output_type": "execute_result"
    }
   ],
   "source": [
    "bank_cat.head()"
   ]
  },
  {
   "cell_type": "code",
   "execution_count": 21,
   "id": "b54c17d9",
   "metadata": {},
   "outputs": [
    {
     "data": {
      "text/html": [
       "<div>\n",
       "<style scoped>\n",
       "    .dataframe tbody tr th:only-of-type {\n",
       "        vertical-align: middle;\n",
       "    }\n",
       "\n",
       "    .dataframe tbody tr th {\n",
       "        vertical-align: top;\n",
       "    }\n",
       "\n",
       "    .dataframe thead th {\n",
       "        text-align: right;\n",
       "    }\n",
       "</style>\n",
       "<table border=\"1\" class=\"dataframe\">\n",
       "  <thead>\n",
       "    <tr style=\"text-align: right;\">\n",
       "      <th></th>\n",
       "      <th>age</th>\n",
       "      <th>duration</th>\n",
       "      <th>campaign</th>\n",
       "      <th>pdays</th>\n",
       "      <th>previous</th>\n",
       "      <th>emp.var.rate</th>\n",
       "      <th>cons.price.idx</th>\n",
       "      <th>cons.conf.idx</th>\n",
       "      <th>euribor3m</th>\n",
       "      <th>nr.employed</th>\n",
       "    </tr>\n",
       "  </thead>\n",
       "  <tbody>\n",
       "    <tr>\n",
       "      <th>0</th>\n",
       "      <td>46</td>\n",
       "      <td>329</td>\n",
       "      <td>3</td>\n",
       "      <td>999</td>\n",
       "      <td>0</td>\n",
       "      <td>1.1</td>\n",
       "      <td>93.994</td>\n",
       "      <td>-36.4</td>\n",
       "      <td>4.857</td>\n",
       "      <td>5191.0</td>\n",
       "    </tr>\n",
       "    <tr>\n",
       "      <th>1</th>\n",
       "      <td>29</td>\n",
       "      <td>132</td>\n",
       "      <td>2</td>\n",
       "      <td>999</td>\n",
       "      <td>0</td>\n",
       "      <td>-1.8</td>\n",
       "      <td>92.893</td>\n",
       "      <td>-46.2</td>\n",
       "      <td>1.281</td>\n",
       "      <td>5099.1</td>\n",
       "    </tr>\n",
       "    <tr>\n",
       "      <th>3</th>\n",
       "      <td>31</td>\n",
       "      <td>199</td>\n",
       "      <td>2</td>\n",
       "      <td>999</td>\n",
       "      <td>0</td>\n",
       "      <td>1.1</td>\n",
       "      <td>93.994</td>\n",
       "      <td>-36.4</td>\n",
       "      <td>4.860</td>\n",
       "      <td>5191.0</td>\n",
       "    </tr>\n",
       "    <tr>\n",
       "      <th>5</th>\n",
       "      <td>33</td>\n",
       "      <td>174</td>\n",
       "      <td>4</td>\n",
       "      <td>999</td>\n",
       "      <td>0</td>\n",
       "      <td>1.4</td>\n",
       "      <td>93.444</td>\n",
       "      <td>-36.1</td>\n",
       "      <td>4.963</td>\n",
       "      <td>5228.1</td>\n",
       "    </tr>\n",
       "    <tr>\n",
       "      <th>8</th>\n",
       "      <td>34</td>\n",
       "      <td>65</td>\n",
       "      <td>2</td>\n",
       "      <td>999</td>\n",
       "      <td>1</td>\n",
       "      <td>-1.8</td>\n",
       "      <td>92.893</td>\n",
       "      <td>-46.2</td>\n",
       "      <td>1.281</td>\n",
       "      <td>5099.1</td>\n",
       "    </tr>\n",
       "  </tbody>\n",
       "</table>\n",
       "</div>"
      ],
      "text/plain": [
       "   age  duration  campaign  pdays  previous  emp.var.rate  cons.price.idx  \\\n",
       "0   46       329         3    999         0           1.1          93.994   \n",
       "1   29       132         2    999         0          -1.8          92.893   \n",
       "3   31       199         2    999         0           1.1          93.994   \n",
       "5   33       174         4    999         0           1.4          93.444   \n",
       "8   34        65         2    999         1          -1.8          92.893   \n",
       "\n",
       "   cons.conf.idx  euribor3m  nr.employed  \n",
       "0          -36.4      4.857       5191.0  \n",
       "1          -46.2      1.281       5099.1  \n",
       "3          -36.4      4.860       5191.0  \n",
       "5          -36.1      4.963       5228.1  \n",
       "8          -46.2      1.281       5099.1  "
      ]
     },
     "execution_count": 21,
     "metadata": {},
     "output_type": "execute_result"
    }
   ],
   "source": [
    "bank_cont.head()"
   ]
  },
  {
   "cell_type": "code",
   "execution_count": 22,
   "id": "2cb9eb6c",
   "metadata": {},
   "outputs": [
    {
     "name": "stderr",
     "output_type": "stream",
     "text": [
      "<ipython-input-22-a9f074d2e943>:6: SettingWithCopyWarning: \n",
      "A value is trying to be set on a copy of a slice from a DataFrame.\n",
      "Try using .loc[row_indexer,col_indexer] = value instead\n",
      "\n",
      "See the caveats in the documentation: https://pandas.pydata.org/pandas-docs/stable/user_guide/indexing.html#returning-a-view-versus-a-copy\n",
      "  bank_cat[c] = LabelEncoder().fit_transform(bank_cat[c])\n"
     ]
    },
    {
     "data": {
      "text/html": [
       "<div>\n",
       "<style scoped>\n",
       "    .dataframe tbody tr th:only-of-type {\n",
       "        vertical-align: middle;\n",
       "    }\n",
       "\n",
       "    .dataframe tbody tr th {\n",
       "        vertical-align: top;\n",
       "    }\n",
       "\n",
       "    .dataframe thead th {\n",
       "        text-align: right;\n",
       "    }\n",
       "</style>\n",
       "<table border=\"1\" class=\"dataframe\">\n",
       "  <thead>\n",
       "    <tr style=\"text-align: right;\">\n",
       "      <th></th>\n",
       "      <th>job</th>\n",
       "      <th>marital</th>\n",
       "      <th>default</th>\n",
       "      <th>education</th>\n",
       "      <th>loan</th>\n",
       "      <th>housing</th>\n",
       "      <th>contact</th>\n",
       "      <th>month</th>\n",
       "      <th>day_of_week</th>\n",
       "      <th>poutcome</th>\n",
       "      <th>y</th>\n",
       "    </tr>\n",
       "  </thead>\n",
       "  <tbody>\n",
       "    <tr>\n",
       "      <th>0</th>\n",
       "      <td>1</td>\n",
       "      <td>1</td>\n",
       "      <td>0</td>\n",
       "      <td>2</td>\n",
       "      <td>2</td>\n",
       "      <td>0</td>\n",
       "      <td>1</td>\n",
       "      <td>6</td>\n",
       "      <td>3</td>\n",
       "      <td>1</td>\n",
       "      <td>0</td>\n",
       "    </tr>\n",
       "    <tr>\n",
       "      <th>1</th>\n",
       "      <td>0</td>\n",
       "      <td>2</td>\n",
       "      <td>0</td>\n",
       "      <td>6</td>\n",
       "      <td>0</td>\n",
       "      <td>0</td>\n",
       "      <td>0</td>\n",
       "      <td>6</td>\n",
       "      <td>4</td>\n",
       "      <td>1</td>\n",
       "      <td>0</td>\n",
       "    </tr>\n",
       "    <tr>\n",
       "      <th>3</th>\n",
       "      <td>0</td>\n",
       "      <td>1</td>\n",
       "      <td>1</td>\n",
       "      <td>3</td>\n",
       "      <td>0</td>\n",
       "      <td>2</td>\n",
       "      <td>1</td>\n",
       "      <td>6</td>\n",
       "      <td>2</td>\n",
       "      <td>1</td>\n",
       "      <td>0</td>\n",
       "    </tr>\n",
       "    <tr>\n",
       "      <th>5</th>\n",
       "      <td>0</td>\n",
       "      <td>2</td>\n",
       "      <td>0</td>\n",
       "      <td>6</td>\n",
       "      <td>2</td>\n",
       "      <td>2</td>\n",
       "      <td>0</td>\n",
       "      <td>1</td>\n",
       "      <td>1</td>\n",
       "      <td>1</td>\n",
       "      <td>0</td>\n",
       "    </tr>\n",
       "    <tr>\n",
       "      <th>8</th>\n",
       "      <td>1</td>\n",
       "      <td>1</td>\n",
       "      <td>1</td>\n",
       "      <td>5</td>\n",
       "      <td>0</td>\n",
       "      <td>0</td>\n",
       "      <td>0</td>\n",
       "      <td>6</td>\n",
       "      <td>4</td>\n",
       "      <td>0</td>\n",
       "      <td>0</td>\n",
       "    </tr>\n",
       "  </tbody>\n",
       "</table>\n",
       "</div>"
      ],
      "text/plain": [
       "   job  marital  default  education  loan  housing  contact  month  \\\n",
       "0    1        1        0          2     2        0        1      6   \n",
       "1    0        2        0          6     0        0        0      6   \n",
       "3    0        1        1          3     0        2        1      6   \n",
       "5    0        2        0          6     2        2        0      1   \n",
       "8    1        1        1          5     0        0        0      6   \n",
       "\n",
       "   day_of_week  poutcome  y  \n",
       "0            3         1  0  \n",
       "1            4         1  0  \n",
       "3            2         1  0  \n",
       "5            1         1  0  \n",
       "8            4         0  0  "
      ]
     },
     "execution_count": 22,
     "metadata": {},
     "output_type": "execute_result"
    }
   ],
   "source": [
    "### Encode the categorical values \n",
    "\n",
    "from sklearn.preprocessing import LabelEncoder\n",
    "\n",
    "for c in bank_cat.columns:\n",
    "    bank_cat[c] = LabelEncoder().fit_transform(bank_cat[c])\n",
    "\n",
    "bank_cat.head()"
   ]
  },
  {
   "cell_type": "code",
   "execution_count": 23,
   "id": "580fb3b7",
   "metadata": {},
   "outputs": [
    {
     "data": {
      "text/html": [
       "<div>\n",
       "<style scoped>\n",
       "    .dataframe tbody tr th:only-of-type {\n",
       "        vertical-align: middle;\n",
       "    }\n",
       "\n",
       "    .dataframe tbody tr th {\n",
       "        vertical-align: top;\n",
       "    }\n",
       "\n",
       "    .dataframe thead th {\n",
       "        text-align: right;\n",
       "    }\n",
       "</style>\n",
       "<table border=\"1\" class=\"dataframe\">\n",
       "  <thead>\n",
       "    <tr style=\"text-align: right;\">\n",
       "      <th></th>\n",
       "      <th>age</th>\n",
       "      <th>duration</th>\n",
       "      <th>campaign</th>\n",
       "      <th>pdays</th>\n",
       "      <th>previous</th>\n",
       "      <th>emp.var.rate</th>\n",
       "      <th>cons.price.idx</th>\n",
       "      <th>cons.conf.idx</th>\n",
       "      <th>euribor3m</th>\n",
       "      <th>nr.employed</th>\n",
       "      <th>...</th>\n",
       "      <th>marital</th>\n",
       "      <th>default</th>\n",
       "      <th>education</th>\n",
       "      <th>loan</th>\n",
       "      <th>housing</th>\n",
       "      <th>contact</th>\n",
       "      <th>month</th>\n",
       "      <th>day_of_week</th>\n",
       "      <th>poutcome</th>\n",
       "      <th>y</th>\n",
       "    </tr>\n",
       "  </thead>\n",
       "  <tbody>\n",
       "    <tr>\n",
       "      <th>0</th>\n",
       "      <td>46</td>\n",
       "      <td>329</td>\n",
       "      <td>3</td>\n",
       "      <td>999</td>\n",
       "      <td>0</td>\n",
       "      <td>1.1</td>\n",
       "      <td>93.994</td>\n",
       "      <td>-36.4</td>\n",
       "      <td>4.857</td>\n",
       "      <td>5191.0</td>\n",
       "      <td>...</td>\n",
       "      <td>1</td>\n",
       "      <td>0</td>\n",
       "      <td>2</td>\n",
       "      <td>2</td>\n",
       "      <td>0</td>\n",
       "      <td>1</td>\n",
       "      <td>6</td>\n",
       "      <td>3</td>\n",
       "      <td>1</td>\n",
       "      <td>0</td>\n",
       "    </tr>\n",
       "    <tr>\n",
       "      <th>1</th>\n",
       "      <td>29</td>\n",
       "      <td>132</td>\n",
       "      <td>2</td>\n",
       "      <td>999</td>\n",
       "      <td>0</td>\n",
       "      <td>-1.8</td>\n",
       "      <td>92.893</td>\n",
       "      <td>-46.2</td>\n",
       "      <td>1.281</td>\n",
       "      <td>5099.1</td>\n",
       "      <td>...</td>\n",
       "      <td>2</td>\n",
       "      <td>0</td>\n",
       "      <td>6</td>\n",
       "      <td>0</td>\n",
       "      <td>0</td>\n",
       "      <td>0</td>\n",
       "      <td>6</td>\n",
       "      <td>4</td>\n",
       "      <td>1</td>\n",
       "      <td>0</td>\n",
       "    </tr>\n",
       "    <tr>\n",
       "      <th>3</th>\n",
       "      <td>31</td>\n",
       "      <td>199</td>\n",
       "      <td>2</td>\n",
       "      <td>999</td>\n",
       "      <td>0</td>\n",
       "      <td>1.1</td>\n",
       "      <td>93.994</td>\n",
       "      <td>-36.4</td>\n",
       "      <td>4.860</td>\n",
       "      <td>5191.0</td>\n",
       "      <td>...</td>\n",
       "      <td>1</td>\n",
       "      <td>1</td>\n",
       "      <td>3</td>\n",
       "      <td>0</td>\n",
       "      <td>2</td>\n",
       "      <td>1</td>\n",
       "      <td>6</td>\n",
       "      <td>2</td>\n",
       "      <td>1</td>\n",
       "      <td>0</td>\n",
       "    </tr>\n",
       "    <tr>\n",
       "      <th>5</th>\n",
       "      <td>33</td>\n",
       "      <td>174</td>\n",
       "      <td>4</td>\n",
       "      <td>999</td>\n",
       "      <td>0</td>\n",
       "      <td>1.4</td>\n",
       "      <td>93.444</td>\n",
       "      <td>-36.1</td>\n",
       "      <td>4.963</td>\n",
       "      <td>5228.1</td>\n",
       "      <td>...</td>\n",
       "      <td>2</td>\n",
       "      <td>0</td>\n",
       "      <td>6</td>\n",
       "      <td>2</td>\n",
       "      <td>2</td>\n",
       "      <td>0</td>\n",
       "      <td>1</td>\n",
       "      <td>1</td>\n",
       "      <td>1</td>\n",
       "      <td>0</td>\n",
       "    </tr>\n",
       "    <tr>\n",
       "      <th>8</th>\n",
       "      <td>34</td>\n",
       "      <td>65</td>\n",
       "      <td>2</td>\n",
       "      <td>999</td>\n",
       "      <td>1</td>\n",
       "      <td>-1.8</td>\n",
       "      <td>92.893</td>\n",
       "      <td>-46.2</td>\n",
       "      <td>1.281</td>\n",
       "      <td>5099.1</td>\n",
       "      <td>...</td>\n",
       "      <td>1</td>\n",
       "      <td>1</td>\n",
       "      <td>5</td>\n",
       "      <td>0</td>\n",
       "      <td>0</td>\n",
       "      <td>0</td>\n",
       "      <td>6</td>\n",
       "      <td>4</td>\n",
       "      <td>0</td>\n",
       "      <td>0</td>\n",
       "    </tr>\n",
       "  </tbody>\n",
       "</table>\n",
       "<p>5 rows × 21 columns</p>\n",
       "</div>"
      ],
      "text/plain": [
       "   age  duration  campaign  pdays  previous  emp.var.rate  cons.price.idx  \\\n",
       "0   46       329         3    999         0           1.1          93.994   \n",
       "1   29       132         2    999         0          -1.8          92.893   \n",
       "3   31       199         2    999         0           1.1          93.994   \n",
       "5   33       174         4    999         0           1.4          93.444   \n",
       "8   34        65         2    999         1          -1.8          92.893   \n",
       "\n",
       "   cons.conf.idx  euribor3m  nr.employed  ...  marital  default  education  \\\n",
       "0          -36.4      4.857       5191.0  ...        1        0          2   \n",
       "1          -46.2      1.281       5099.1  ...        2        0          6   \n",
       "3          -36.4      4.860       5191.0  ...        1        1          3   \n",
       "5          -36.1      4.963       5228.1  ...        2        0          6   \n",
       "8          -46.2      1.281       5099.1  ...        1        1          5   \n",
       "\n",
       "   loan  housing  contact  month  day_of_week  poutcome  y  \n",
       "0     2        0        1      6            3         1  0  \n",
       "1     0        0        0      6            4         1  0  \n",
       "3     0        2        1      6            2         1  0  \n",
       "5     2        2        0      1            1         1  0  \n",
       "8     0        0        0      6            4         0  0  \n",
       "\n",
       "[5 rows x 21 columns]"
      ]
     },
     "execution_count": 23,
     "metadata": {},
     "output_type": "execute_result"
    }
   ],
   "source": [
    "### Combinning categorical and continuous dataset\n",
    "\n",
    "bank_final= pd.concat([bank_cont, bank_cat], axis = 1)\n",
    "\n",
    "bank_final.head()"
   ]
  },
  {
   "cell_type": "markdown",
   "id": "bcd7221f",
   "metadata": {},
   "source": [
    "<a name = Section33></a>\n",
    "## **3.3 Model Training and Prediction**"
   ]
  },
  {
   "cell_type": "code",
   "execution_count": 24,
   "id": "3d22bb19",
   "metadata": {},
   "outputs": [
    {
     "data": {
      "text/html": [
       "<div>\n",
       "<style scoped>\n",
       "    .dataframe tbody tr th:only-of-type {\n",
       "        vertical-align: middle;\n",
       "    }\n",
       "\n",
       "    .dataframe tbody tr th {\n",
       "        vertical-align: top;\n",
       "    }\n",
       "\n",
       "    .dataframe thead th {\n",
       "        text-align: right;\n",
       "    }\n",
       "</style>\n",
       "<table border=\"1\" class=\"dataframe\">\n",
       "  <thead>\n",
       "    <tr style=\"text-align: right;\">\n",
       "      <th></th>\n",
       "      <th>age</th>\n",
       "      <th>duration</th>\n",
       "      <th>campaign</th>\n",
       "      <th>pdays</th>\n",
       "      <th>previous</th>\n",
       "      <th>emp.var.rate</th>\n",
       "      <th>cons.price.idx</th>\n",
       "      <th>cons.conf.idx</th>\n",
       "      <th>euribor3m</th>\n",
       "      <th>nr.employed</th>\n",
       "      <th>job</th>\n",
       "      <th>marital</th>\n",
       "      <th>default</th>\n",
       "      <th>education</th>\n",
       "      <th>loan</th>\n",
       "      <th>housing</th>\n",
       "      <th>contact</th>\n",
       "      <th>month</th>\n",
       "      <th>day_of_week</th>\n",
       "      <th>poutcome</th>\n",
       "    </tr>\n",
       "  </thead>\n",
       "  <tbody>\n",
       "    <tr>\n",
       "      <th>0</th>\n",
       "      <td>46</td>\n",
       "      <td>329</td>\n",
       "      <td>3</td>\n",
       "      <td>999</td>\n",
       "      <td>0</td>\n",
       "      <td>1.1</td>\n",
       "      <td>93.994</td>\n",
       "      <td>-36.4</td>\n",
       "      <td>4.857</td>\n",
       "      <td>5191.0</td>\n",
       "      <td>1</td>\n",
       "      <td>1</td>\n",
       "      <td>0</td>\n",
       "      <td>2</td>\n",
       "      <td>2</td>\n",
       "      <td>0</td>\n",
       "      <td>1</td>\n",
       "      <td>6</td>\n",
       "      <td>3</td>\n",
       "      <td>1</td>\n",
       "    </tr>\n",
       "    <tr>\n",
       "      <th>1</th>\n",
       "      <td>29</td>\n",
       "      <td>132</td>\n",
       "      <td>2</td>\n",
       "      <td>999</td>\n",
       "      <td>0</td>\n",
       "      <td>-1.8</td>\n",
       "      <td>92.893</td>\n",
       "      <td>-46.2</td>\n",
       "      <td>1.281</td>\n",
       "      <td>5099.1</td>\n",
       "      <td>0</td>\n",
       "      <td>2</td>\n",
       "      <td>0</td>\n",
       "      <td>6</td>\n",
       "      <td>0</td>\n",
       "      <td>0</td>\n",
       "      <td>0</td>\n",
       "      <td>6</td>\n",
       "      <td>4</td>\n",
       "      <td>1</td>\n",
       "    </tr>\n",
       "    <tr>\n",
       "      <th>3</th>\n",
       "      <td>31</td>\n",
       "      <td>199</td>\n",
       "      <td>2</td>\n",
       "      <td>999</td>\n",
       "      <td>0</td>\n",
       "      <td>1.1</td>\n",
       "      <td>93.994</td>\n",
       "      <td>-36.4</td>\n",
       "      <td>4.860</td>\n",
       "      <td>5191.0</td>\n",
       "      <td>0</td>\n",
       "      <td>1</td>\n",
       "      <td>1</td>\n",
       "      <td>3</td>\n",
       "      <td>0</td>\n",
       "      <td>2</td>\n",
       "      <td>1</td>\n",
       "      <td>6</td>\n",
       "      <td>2</td>\n",
       "      <td>1</td>\n",
       "    </tr>\n",
       "    <tr>\n",
       "      <th>5</th>\n",
       "      <td>33</td>\n",
       "      <td>174</td>\n",
       "      <td>4</td>\n",
       "      <td>999</td>\n",
       "      <td>0</td>\n",
       "      <td>1.4</td>\n",
       "      <td>93.444</td>\n",
       "      <td>-36.1</td>\n",
       "      <td>4.963</td>\n",
       "      <td>5228.1</td>\n",
       "      <td>0</td>\n",
       "      <td>2</td>\n",
       "      <td>0</td>\n",
       "      <td>6</td>\n",
       "      <td>2</td>\n",
       "      <td>2</td>\n",
       "      <td>0</td>\n",
       "      <td>1</td>\n",
       "      <td>1</td>\n",
       "      <td>1</td>\n",
       "    </tr>\n",
       "    <tr>\n",
       "      <th>8</th>\n",
       "      <td>34</td>\n",
       "      <td>65</td>\n",
       "      <td>2</td>\n",
       "      <td>999</td>\n",
       "      <td>1</td>\n",
       "      <td>-1.8</td>\n",
       "      <td>92.893</td>\n",
       "      <td>-46.2</td>\n",
       "      <td>1.281</td>\n",
       "      <td>5099.1</td>\n",
       "      <td>1</td>\n",
       "      <td>1</td>\n",
       "      <td>1</td>\n",
       "      <td>5</td>\n",
       "      <td>0</td>\n",
       "      <td>0</td>\n",
       "      <td>0</td>\n",
       "      <td>6</td>\n",
       "      <td>4</td>\n",
       "      <td>0</td>\n",
       "    </tr>\n",
       "  </tbody>\n",
       "</table>\n",
       "</div>"
      ],
      "text/plain": [
       "   age  duration  campaign  pdays  previous  emp.var.rate  cons.price.idx  \\\n",
       "0   46       329         3    999         0           1.1          93.994   \n",
       "1   29       132         2    999         0          -1.8          92.893   \n",
       "3   31       199         2    999         0           1.1          93.994   \n",
       "5   33       174         4    999         0           1.4          93.444   \n",
       "8   34        65         2    999         1          -1.8          92.893   \n",
       "\n",
       "   cons.conf.idx  euribor3m  nr.employed  job  marital  default  education  \\\n",
       "0          -36.4      4.857       5191.0    1        1        0          2   \n",
       "1          -46.2      1.281       5099.1    0        2        0          6   \n",
       "3          -36.4      4.860       5191.0    0        1        1          3   \n",
       "5          -36.1      4.963       5228.1    0        2        0          6   \n",
       "8          -46.2      1.281       5099.1    1        1        1          5   \n",
       "\n",
       "   loan  housing  contact  month  day_of_week  poutcome  \n",
       "0     2        0        1      6            3         1  \n",
       "1     0        0        0      6            4         1  \n",
       "3     0        2        1      6            2         1  \n",
       "5     2        2        0      1            1         1  \n",
       "8     0        0        0      6            4         0  "
      ]
     },
     "execution_count": 24,
     "metadata": {},
     "output_type": "execute_result"
    }
   ],
   "source": [
    "### Separate out dependent variables X\n",
    "\n",
    "X = bank_final.loc[: , bank_final.columns != 'y' ]\n",
    "X.head()"
   ]
  },
  {
   "cell_type": "code",
   "execution_count": 25,
   "id": "a4562583",
   "metadata": {},
   "outputs": [
    {
     "data": {
      "text/html": [
       "<div>\n",
       "<style scoped>\n",
       "    .dataframe tbody tr th:only-of-type {\n",
       "        vertical-align: middle;\n",
       "    }\n",
       "\n",
       "    .dataframe tbody tr th {\n",
       "        vertical-align: top;\n",
       "    }\n",
       "\n",
       "    .dataframe thead th {\n",
       "        text-align: right;\n",
       "    }\n",
       "</style>\n",
       "<table border=\"1\" class=\"dataframe\">\n",
       "  <thead>\n",
       "    <tr style=\"text-align: right;\">\n",
       "      <th></th>\n",
       "      <th>y</th>\n",
       "    </tr>\n",
       "  </thead>\n",
       "  <tbody>\n",
       "    <tr>\n",
       "      <th>0</th>\n",
       "      <td>0</td>\n",
       "    </tr>\n",
       "    <tr>\n",
       "      <th>1</th>\n",
       "      <td>0</td>\n",
       "    </tr>\n",
       "    <tr>\n",
       "      <th>3</th>\n",
       "      <td>0</td>\n",
       "    </tr>\n",
       "    <tr>\n",
       "      <th>5</th>\n",
       "      <td>0</td>\n",
       "    </tr>\n",
       "    <tr>\n",
       "      <th>8</th>\n",
       "      <td>0</td>\n",
       "    </tr>\n",
       "  </tbody>\n",
       "</table>\n",
       "</div>"
      ],
      "text/plain": [
       "   y\n",
       "0  0\n",
       "1  0\n",
       "3  0\n",
       "5  0\n",
       "8  0"
      ]
     },
     "execution_count": 25,
     "metadata": {},
     "output_type": "execute_result"
    }
   ],
   "source": [
    "### Separate out the target variable y for model prediction\n",
    "\n",
    "y = bank_final.loc[ : , bank_final.columns == 'y']\n",
    "y.head()"
   ]
  },
  {
   "cell_type": "code",
   "execution_count": 26,
   "id": "cde006d4",
   "metadata": {},
   "outputs": [
    {
     "name": "stdout",
     "output_type": "stream",
     "text": [
      "X_train - (3465, 20) and X_test - (1156, 20)\n",
      "y_train - (3465, 1) and y_test - (1156, 1)\n"
     ]
    }
   ],
   "source": [
    "### Splitting data into train and test\n",
    "\n",
    "from sklearn.model_selection import train_test_split\n",
    "\n",
    "X_train, X_test, y_train, y_test = train_test_split(X, y, test_size=0.25, random_state=40)\n",
    "\n",
    "print(\"X_train - {} and X_test - {}\".format(X_train.shape, X_test.shape))\n",
    "print(\"y_train - {} and y_test - {}\".format(y_train.shape, y_test.shape))"
   ]
  },
  {
   "cell_type": "code",
   "execution_count": 27,
   "id": "088fef9e",
   "metadata": {},
   "outputs": [
    {
     "name": "stderr",
     "output_type": "stream",
     "text": [
      "/home/ishank24/anaconda3/envs/mypythonenv/lib/python3.9/site-packages/sklearn/utils/validation.py:985: DataConversionWarning: A column-vector y was passed when a 1d array was expected. Please change the shape of y to (n_samples, ), for example using ravel().\n",
      "  y = column_or_1d(y, warn=True)\n",
      "/home/ishank24/anaconda3/envs/mypythonenv/lib/python3.9/site-packages/sklearn/linear_model/_logistic.py:814: ConvergenceWarning: lbfgs failed to converge (status=1):\n",
      "STOP: TOTAL NO. of ITERATIONS REACHED LIMIT.\n",
      "\n",
      "Increase the number of iterations (max_iter) or scale the data as shown in:\n",
      "    https://scikit-learn.org/stable/modules/preprocessing.html\n",
      "Please also refer to the documentation for alternative solver options:\n",
      "    https://scikit-learn.org/stable/modules/linear_model.html#logistic-regression\n",
      "  n_iter_i = _check_optimize_result(\n"
     ]
    },
    {
     "data": {
      "text/plain": [
       "LogisticRegression()"
      ]
     },
     "execution_count": 27,
     "metadata": {},
     "output_type": "execute_result"
    }
   ],
   "source": [
    "### Initialize the logistic regression model and training the model to get coefficients\n",
    "\n",
    "from sklearn.linear_model import LogisticRegression\n",
    "\n",
    "logreg = LogisticRegression()\n",
    "logreg.fit(X_train, y_train)"
   ]
  },
  {
   "cell_type": "code",
   "execution_count": 28,
   "id": "34d0d162",
   "metadata": {},
   "outputs": [
    {
     "name": "stdout",
     "output_type": "stream",
     "text": [
      "predicting train data - (3465,)\n",
      "predicting test data - (1156,)\n"
     ]
    }
   ],
   "source": [
    "### Do model prediction on both test and train data\n",
    "\n",
    "# Create model prediction on X_train data\n",
    "y_pred_train = logreg.predict(X_train)\n",
    "\n",
    "# Create model prediction for X_test\n",
    "y_pred_test = logreg.predict(X_test)\n",
    "\n",
    "print(\"predicting train data - {}\".format(y_pred_train.shape))\n",
    "print(\"predicting test data - {}\".format(y_pred_test.shape))"
   ]
  },
  {
   "cell_type": "markdown",
   "id": "171d2061",
   "metadata": {},
   "source": [
    "<a name = Section34></a>\n",
    "## **3.4 Model Evaluation**"
   ]
  },
  {
   "cell_type": "markdown",
   "id": "cccb156e",
   "metadata": {},
   "source": [
    "<a name = Section341></a>\n",
    "### **3.4.1 Accuracy Score**\n",
    "\n",
    "$$\n",
    "    \\text{Accuracy Score} = \\dfrac{\\text{Total no of correctly classified observations}}{\\text{Total no of observations}}\n",
    "$$"
   ]
  },
  {
   "cell_type": "code",
   "execution_count": 29,
   "id": "298ef366",
   "metadata": {},
   "outputs": [
    {
     "name": "stdout",
     "output_type": "stream",
     "text": [
      "Training accuracy score : 0.9417027417027417\n",
      "Testing accuracy score : 0.9290657439446367\n"
     ]
    }
   ],
   "source": [
    "### Evaluating model accuracy using accuracy_score\n",
    "\n",
    "from sklearn.metrics import accuracy_score\n",
    "\n",
    "print(\"Training accuracy score : {}\".format(accuracy_score(y_train, y_pred_train)))\n",
    "print(\"Testing accuracy score : {}\".format(accuracy_score(y_test, y_pred_test)))"
   ]
  },
  {
   "cell_type": "markdown",
   "id": "b0e2c176",
   "metadata": {},
   "source": [
    "<a name = Section342></a>\n",
    "### **3.4.2 Confusion Matrix**\n",
    "\n",
    "<img src=\"images/confusion_matrix.png\" height=\"400\" width=\"400\" >\n",
    "\n",
    "- Confusion matrix helps us evaluate the accuracy of classes for a categorical predictive algorithm (Logistic Regression). \n",
    "\n",
    "- The matrix plots actual values (x-axis) against the predicted values (y-axis). Each cell represents the frequency of predicted samples based on the predicted class and actual class of that cell. For example :\n",
    "   \n",
    "   - True negatives (TN) : No of samples that have $y_{pred} = 0 \\ \\text{and} \\  y_{true} = 0 $ \n",
    "   - False positives (FP) : No of samples that have $y_{pred} = 1 \\ \\text{and} \\  y_{true} = 0 $ \n",
    "   - False negatives (FN) : No of samples that have $y_{pred} = 0 \\ \\text{and} \\  y_{true} = 1 $\n",
    "   - True positives (TP) : No of samples that have $y_{pred} = 1 \\ \\text{and} \\  y_{true} = 1 $  \n",
    "\n",
    "- The function to plot the confusion matrix (ConfusionMatrixDisplay.from_predictions) takes the following arguments\n",
    "\n",
    "   - y_true : array like structure of True labels\n",
    "   - y_test : array like structure of predicted labels\n",
    "   - normalize: can take one of the following values {\"pred\", \"true\", \"all\"}. Basically this parameter helps calculate probabilities.\n",
    "       - \"all\" : divides the confusion matrix by total no of samples in test i.e. TN+FP+FN+TP\n",
    "       - \"pred\" : divides the confusion matrix by total no of samples along the predicted axis (axis=0). In numpy it would look like (where conf_mat contains the values of confusion matrix)\n",
    "       $$\n",
    "       \\dfrac{\\text{conf_mat}}{ \\text{np.sum(conf_mat, axis=0)}}\n",
    "       $$\n",
    "       - \"true\" : similarly, divides the confusion matrix by total no of samples along the actual axis (axis=1). In numpy it would look like (where conf_mat contains the values of confusion matrix)\n",
    "       $$\n",
    "       \\dfrac{\\text{conf_mat}}{ \\text{np.sum(conf_mat, axis=1)}}\n",
    "       $$\n",
    "   - labels : this contains the array of class labels. By default, it is sorted in ascending over all the available class labels. In our case it will default to labels = [0,1] .One can change the order of labels by setting this variable.\n",
    "\n"
   ]
  },
  {
   "cell_type": "code",
   "execution_count": 30,
   "id": "5cf0f5a4",
   "metadata": {},
   "outputs": [
    {
     "data": {
      "text/plain": [
       "array([[0.9793621 , 0.24444444],\n",
       "       [0.05628518, 0.33333333]])"
      ]
     },
     "execution_count": 30,
     "metadata": {},
     "output_type": "execute_result"
    }
   ],
   "source": [
    "a = np.array([[1044, 22], [60, 30]])\n",
    "\n",
    "a/np.sum(a, axis=1)"
   ]
  },
  {
   "cell_type": "code",
   "execution_count": 31,
   "id": "fa4bcf18",
   "metadata": {},
   "outputs": [
    {
     "data": {
      "text/plain": [
       "<sklearn.metrics._plot.confusion_matrix.ConfusionMatrixDisplay at 0x7f85f8aa92e0>"
      ]
     },
     "execution_count": 31,
     "metadata": {},
     "output_type": "execute_result"
    },
    {
     "data": {
      "image/png": "[encoded data removed]",
      "text/plain": [
       "<Figure size 1440x360 with 6 Axes>"
      ]
     },
     "metadata": {
      "needs_background": "light"
     },
     "output_type": "display_data"
    }
   ],
   "source": [
    "### Evaluating model accuracy using confusion matrix\n",
    "import matplotlib.pyplot as plt\n",
    "from sklearn.metrics import confusion_matrix\n",
    "from sklearn.metrics import ConfusionMatrixDisplay\n",
    "\n",
    "fig, ax = plt.subplots(1, 3, figsize=(20,5))\n",
    "ax[0].set_title('Confusion matrix')\n",
    "ax[1].set_title('Confusion matrix normalized on pred')\n",
    "ax[2].set_title('Confusion matrix normalized on true')\n",
    "ConfusionMatrixDisplay.from_predictions(y_test, y_pred_test, ax = ax[0])\n",
    "ConfusionMatrixDisplay.from_predictions(y_test, y_pred_test, normalize=\"pred\", values_format=\"0.5g\", ax = ax[1])\n",
    "ConfusionMatrixDisplay.from_predictions(y_test, y_pred_test, normalize=\"true\", values_format=\"0.5g\", ax = ax[2])\n",
    "\n",
    "##confusion_matrix(y_test, y_pred_test, labels=[0,1])"
   ]
  },
  {
   "cell_type": "markdown",
   "id": "4150ddd7",
   "metadata": {},
   "source": [
    "<a name = Section343></a>\n",
    "### **3.4.3 Classification Error**\n",
    "\n",
    "\n",
    "$$\n",
    "    \\text{Classification Error} = \\dfrac{\\text{FP} + \\text{FN}}{\\text{FP} + \\text{TP} + \\text{TN} + \\text{FN}}\n",
    "    = 1 - \\text{Accuracy Score}\n",
    "$$\n"
   ]
  },
  {
   "cell_type": "markdown",
   "id": "71b112cf",
   "metadata": {},
   "source": [
    "<a name = Section344></a>\n",
    "### **3.4.4 Sensitivity and Specificity**\n",
    "\n",
    "- **Sensitivity** is referred to as **True Positive Rate** i.e. the proportion of positive (class = 1) observations that were correctly identified.\n",
    "\n",
    "- **Specificity** is referred to as **True Negative Rate** i.e. the proportion of negative (class = 0) observations that were correctly identified.\n",
    "\n",
    "- For our case, the values turn out to be as below and as you can see from above that they are nothing but the confusion matrix values on diagonal with normalize=\"true\"\n",
    "\n",
    "    $ \\text{Sensitivity} =  \\dfrac{\\text{TP}}{\\text{TP}+\\text{FN}} = \\dfrac{30}{30 + 60} = 0.33333$   \n",
    "    <br>\n",
    "    $ \\text{Specificity} =  \\dfrac{\\text{TN}}{\\text{TN}+\\text{FP}} = \\dfrac{1044}{1044 + 22} = 0.97936$  "
   ]
  },
  {
   "cell_type": "markdown",
   "id": "781583b7",
   "metadata": {},
   "source": [
    "<a name = Section345></a>\n",
    "### **3.4.5 Precision and Recall**\n",
    "\n",
    "- **Precision** provides **measure of exactness**, i.e. what precentage of observations are labelled as positive (class = 1) are actually positive.\n",
    "\n",
    "- **Recall** provides **measure of completeness** i.e. what precentage of observations that were actually positive (class = 1) were correctly classified as positive.\n",
    "\n",
    "    $ \\text{Precision} =  \\dfrac{\\text{TP}}{\\text{TP}+\\text{FP}} = \\dfrac{30}{30 + 22} = 0.5769$   \n",
    "    <br>\n",
    "    $ \\text{Recall} =  \\dfrac{\\text{TP}}{\\text{TP} + \\text{FN}} = \\dfrac{30}{30 + 60} = 0.3333$"
   ]
  },
  {
   "cell_type": "markdown",
   "id": "6567a2da",
   "metadata": {},
   "source": [
    "<a name = Section346></a>\n",
    "### **3.4.6 F<sub>1</sub> score**\n",
    "\n",
    "$$\n",
    "    \\text{F}_1 \\text{ score} \n",
    "    = \\dfrac{2 * \\text{precision} * \\text{recall} }{\\text{precision} + \\text{recall}}\n",
    "    = \\dfrac{2 * p * r}{p + r} = \\text{Harmonic Mean}(p,r)\n",
    "$$\n",
    "\n",
    "$\\text{F}_1$ score is great way to simultaenously consider both precision and recall for classification tasks. It also referred to as Sorensen-Dice coefficient. There are two key properties of the $\\text{F}_1$ score : \n",
    "<br>\n",
    "   - $\\text{F}_1$ score lies between $p$ and $r$\n",
    "   - $\\text{F}_1$ score is never greater than the arithmetic mean of $p$ and $r$, but is often smaller ( $\\text{F}_1$ score is waited toward the smaller of $p$ and $r$ )\n",
    "   \n",
    "<br>\n",
    "These two properties are critical, in my opinion, because without the first, it really could not be thought of as an average at all. Without the second, it would be very unclear why one would use F1 score for classification instead of a typical arithmetic average of precision and recall. With this property, we are enforcing that a classification algorithm be decent at both precision and recall. The algorithm cannot make up for severe deficiency in one by excellence in the other, when the F1 score is used, because the score is weighted toward the lower of the two. This is not the case with the typical arithmetic mean.\n",
    "\n",
    "<u>**An Intuitive Example**</u>\n",
    "\n",
    "For a total distance of 10km : If you run the first 5 kilometers at 10 kph (or mph, it really doesn’t matter) and the last 5 kilometers at 15 kph, what is your average speed over the entire race?\n",
    "\n",
    "<u>Ans:</u> The answer is not 12.5 ( the arithmetic average ) but $\\dfrac{10}{\\dfrac{5}{10} + \\dfrac{5}{12}} = 12kph$\n",
    "\n",
    "The reason the answer is less than 12.5, is that we actually spend more time going at the slower speed (distances being constant), which puts more weight toward the slower speed in the average. \n",
    "\n",
    "Consider an edge case where in the second half the speed is 0kph. You would be running the race forever and your average speed would be 0kph. This is because the $\\text{F}_1$ score puts more weight ( here infinite weight ) toward the lower speed ( here it is 0kph ).\n",
    "\n",
    "<u>Let's calculate this for a general case</u>: Consider a race of length x, in which we go at speed $p$ for the first half of the distance (x/2) and then at speed $r$ for the second half. What is our average speed over the entire race?\n",
    "\n",
    "$$\n",
    "avg = \\dfrac{x}{\\dfrac{x/2}{p} + \\dfrac{x/2}{r}} = \\dfrac{2 * p * r}{p+r}\n",
    "$$\n",
    "\n",
    "\n",
    "<u>**Wrapping up**</u>\n",
    "\n",
    "   - The $\\text{F}_1$ score cannot be larger than the larger of the precision and recall, and it cannot be smaller than the smaller of the two. Thus, it is truly a kind of average. This is clearly true because your average speed across the entire race cannot be faster than your fastest instantaneous speed during the race, nor can it be slower than your slowest instantaneous speed.\n",
    "   \n",
    "   - The $\\text{F}_1$ score is closer to the smaller of the precision and recall, than it is to the larger, if indeed they are not equal. Thus the F1 score cannot be greater than the arithmetic mean (and is often smaller). This is obvious because you spend more time going at the slower speed, so the average gets weighted down towards the slower speed. Of course, in the case where both speeds are equal, this point is moot."
   ]
  },
  {
   "cell_type": "markdown",
   "id": "dac1ab3a",
   "metadata": {},
   "source": [
    "<a name = Section347></a>\n",
    "### **3.4.7 F<sub>$\\beta$</sub> score**\n",
    "\n",
    "- It is a weighted measure of precision and recall which assigns $\\beta$ times as much weight to recall to as precision.\n",
    "\n",
    "$$\n",
    "\\text{F}_\\beta = \\dfrac{(1+ \\beta^2) * \\text{precision} * \\text{recall}}{\\beta^2 * \\text{precision} * \\text{recall} }\n",
    "$$"
   ]
  },
  {
   "cell_type": "markdown",
   "id": "7934209f",
   "metadata": {},
   "source": [
    "<a name = Section348></a>\n",
    "### **3.4.8 AUC - ROC**\n",
    "\n",
    "\n",
    "- AUC (Area under the curve) - ROC (Receiver operatinh characteristics)\n",
    "- AUC-ROC is a performance measurement for the classification problems at various threshold settings. ROC is a probability curve and AUC represents the degree or measure of separability.\n",
    "- Higher the AUC, the better the model is at predicting 0 classes as 0 and 1 classes as 1.\n",
    "- The ROC curve is plotted with TPR on y-axis (True postive rate) against the FPR on x-axis(False positive rate)\n",
    "\n",
    "<img src=\"images/AUC-ROC.png\" height=\"300\" width=\"300\" >\n",
    "\n",
    "**Some important conditional probabilities to keep in mind** \n",
    "\n",
    "- **TPR (True positive rate) / Recall / Sensitivity**\n",
    "\n",
    "$$\\text{TPR / Recall / Sensitivity} = \\dfrac{\\text{TP}}{\\text{TP}+\\text{FN}} = \\text{P}(\\dfrac{\\text{model predicts/tests positive}}{\\text{actual positves}})$$\n",
    "\n",
    "$$\\text{TPR } = \\text{probability that an actual positive will test positve} $$\n",
    "\n",
    "- **FPR (False positive rate)**\n",
    "\n",
    "$$ \\text{FPR} = \\dfrac{\\text{FP}}{\\text{FP} + \\text{TN} } = 1 - \\text{Specificity} = \\text{P}(\\dfrac{\\text{model predicts/tests positive}}{\\text{actual negatives}}) $$\n",
    "\n",
    "$$\\text{FPR} = \\text{probability that an actual negative will test positive} $$\n",
    "\n",
    "\n",
    "- **TNR (True negative rate) / Specificity**\n",
    "\n",
    "$$\\text{TNR} = \\dfrac{\\text{TN}}{\\text{TN} + \\text{FP}} = \\text{P}(\\dfrac{\\text{model predicts/tests negatives}}{\\text{actual negatives}})$$\n",
    "\n",
    "$$\\text{TNR} = \\text{probability that an actual negative will test negative} $$\n",
    "\n",
    "- **FNR (False negative rate) / Miss rate**\n",
    "\n",
    "$$\\text{FNR} = \\dfrac{\\text{FN}}{\\text{FN} + \\text{TP}} = \\text{P}(\\dfrac{\\text{model predicts/tests negatives}}{\\text{actual positives}})$$\n",
    "\n",
    "$$\\text{TNR} = \\text{probability that a true positive will be missed by the test/model} $$\n",
    "\n",
    "- Also we can **infer** that,\n",
    "\n",
    "$$\\text{TPR} + \\text{FNR} = \\text{TNR} + \\text{FPR} = 1$$\n",
    "\n",
    "**Coming back to AUC-ROC. Interpreting**\n",
    "\n",
    "Below is an ideal situation. When two curves don’t overlap at all model has an ideal measure of separability. It is perfectly able to distinguish between positive class and negative class.\n",
    "\n",
    "<img src=\"images/AUC_1.png\" height=\"300\" width=\"700\" >\n",
    "\n",
    "When two distributions overlap, we introduce type 1 and type 2 errors. Depending upon the threshold, we can minimize or maximize them. When AUC is 0.7, it means there is a 70% chance that the model will be able to distinguish between positive class and negative class.\n",
    "\n",
    "<img src=\"images/AUC_0.7.png\" height=\"300\" width=\"700\" >\n",
    "\n",
    "Below is the worst situation. When AUC is approximately 0.5, the model has no discrimination capacity to distinguish between positive class and negative class.\n",
    "\n",
    "<img src=\"images/AUC_0.5.png\" height=\"300\" width=\"700\" >\n",
    "\n",
    "When AUC is approximately 0, the model is actually reciprocating the classes. It means the model is predicting a negative class as a positive class and vice versa.\n",
    "\n",
    "<img src=\"images/AUC_0.png\" height=\"300\" width=\"700\" >\n"
   ]
  },
  {
   "cell_type": "code",
   "execution_count": 32,
   "id": "9cc73cf2",
   "metadata": {},
   "outputs": [
    {
     "name": "stdout",
     "output_type": "stream",
     "text": [
      "Accuracy score for test data with 0.75 threshold is : 0.9256055363321799\n"
     ]
    }
   ],
   "source": [
    "### Evaluating model accuracy using probability threshold as 0.75 \n",
    "\n",
    "preds1 = np.where(logreg.predict_proba(X_test)[:,1] > 0.75, 1, 0)\n",
    "print(\"Accuracy score for test data with 0.75 threshold is : {}\".format(accuracy_score(y_test,preds1)))"
   ]
  },
  {
   "cell_type": "code",
   "execution_count": 33,
   "id": "06c7c9bd",
   "metadata": {},
   "outputs": [
    {
     "name": "stdout",
     "output_type": "stream",
     "text": [
      "Accuracy score for test data with 0.25 threshold is : 0.9273356401384083\n"
     ]
    }
   ],
   "source": [
    "### Evaluating model accuracy using probability threshold as 0.25\n",
    "\n",
    "preds2 = np.where(logreg.predict_proba(X_test)[:,1] > 0.25, 1, 0)\n",
    "print(\"Accuracy score for test data with 0.25 threshold is : {}\".format(accuracy_score(y_test,preds2)))"
   ]
  },
  {
   "cell_type": "code",
   "execution_count": null,
   "id": "e567fcfe",
   "metadata": {},
   "outputs": [],
   "source": []
  },
  {
   "cell_type": "code",
   "execution_count": null,
   "id": "70701b2b",
   "metadata": {},
   "outputs": [],
   "source": []
  },
  {
   "cell_type": "code",
   "execution_count": 34,
   "id": "dd89db2f",
   "metadata": {},
   "outputs": [],
   "source": [
    "data = pd.read_csv('https://raw.githubusercontent.com/insaid2018/CDF-Certification-Quiz-Data/master/Abalone/02-Data.csv')"
   ]
  },
  {
   "cell_type": "code",
   "execution_count": 35,
   "id": "89b96f22",
   "metadata": {},
   "outputs": [],
   "source": [
    "data_cont = pd.get_dummies(data).drop(columns=['Sex_M'])"
   ]
  },
  {
   "cell_type": "code",
   "execution_count": 36,
   "id": "d28b60d6",
   "metadata": {},
   "outputs": [],
   "source": [
    "X = data_cont.loc[ : , data_cont.columns != 'Adult']\n",
    "y = data_cont.loc[ : , data_cont.columns == 'Adult']"
   ]
  },
  {
   "cell_type": "code",
   "execution_count": 37,
   "id": "caf224f2",
   "metadata": {},
   "outputs": [
    {
     "data": {
      "text/html": [
       "<div>\n",
       "<style scoped>\n",
       "    .dataframe tbody tr th:only-of-type {\n",
       "        vertical-align: middle;\n",
       "    }\n",
       "\n",
       "    .dataframe tbody tr th {\n",
       "        vertical-align: top;\n",
       "    }\n",
       "\n",
       "    .dataframe thead th {\n",
       "        text-align: right;\n",
       "    }\n",
       "</style>\n",
       "<table border=\"1\" class=\"dataframe\">\n",
       "  <thead>\n",
       "    <tr style=\"text-align: right;\">\n",
       "      <th></th>\n",
       "      <th>Length</th>\n",
       "      <th>Diameter</th>\n",
       "      <th>Height</th>\n",
       "      <th>Whole weight</th>\n",
       "      <th>Shucked weight</th>\n",
       "      <th>Viscera weight</th>\n",
       "      <th>Shell weight</th>\n",
       "      <th>Sex_F</th>\n",
       "    </tr>\n",
       "  </thead>\n",
       "  <tbody>\n",
       "    <tr>\n",
       "      <th>0</th>\n",
       "      <td>0.455</td>\n",
       "      <td>0.365</td>\n",
       "      <td>0.095</td>\n",
       "      <td>0.5140</td>\n",
       "      <td>0.2245</td>\n",
       "      <td>0.1010</td>\n",
       "      <td>0.150</td>\n",
       "      <td>0</td>\n",
       "    </tr>\n",
       "    <tr>\n",
       "      <th>1</th>\n",
       "      <td>0.350</td>\n",
       "      <td>0.265</td>\n",
       "      <td>0.090</td>\n",
       "      <td>0.2255</td>\n",
       "      <td>0.0995</td>\n",
       "      <td>0.0485</td>\n",
       "      <td>0.070</td>\n",
       "      <td>0</td>\n",
       "    </tr>\n",
       "    <tr>\n",
       "      <th>2</th>\n",
       "      <td>0.530</td>\n",
       "      <td>0.420</td>\n",
       "      <td>0.135</td>\n",
       "      <td>0.6770</td>\n",
       "      <td>0.2565</td>\n",
       "      <td>0.1415</td>\n",
       "      <td>0.210</td>\n",
       "      <td>1</td>\n",
       "    </tr>\n",
       "    <tr>\n",
       "      <th>3</th>\n",
       "      <td>0.440</td>\n",
       "      <td>0.365</td>\n",
       "      <td>0.125</td>\n",
       "      <td>0.5160</td>\n",
       "      <td>0.2155</td>\n",
       "      <td>0.1140</td>\n",
       "      <td>0.155</td>\n",
       "      <td>0</td>\n",
       "    </tr>\n",
       "    <tr>\n",
       "      <th>4</th>\n",
       "      <td>0.330</td>\n",
       "      <td>0.255</td>\n",
       "      <td>0.080</td>\n",
       "      <td>0.2050</td>\n",
       "      <td>0.0895</td>\n",
       "      <td>0.0395</td>\n",
       "      <td>0.055</td>\n",
       "      <td>0</td>\n",
       "    </tr>\n",
       "  </tbody>\n",
       "</table>\n",
       "</div>"
      ],
      "text/plain": [
       "   Length  Diameter  Height  Whole weight  Shucked weight  Viscera weight  \\\n",
       "0   0.455     0.365   0.095        0.5140          0.2245          0.1010   \n",
       "1   0.350     0.265   0.090        0.2255          0.0995          0.0485   \n",
       "2   0.530     0.420   0.135        0.6770          0.2565          0.1415   \n",
       "3   0.440     0.365   0.125        0.5160          0.2155          0.1140   \n",
       "4   0.330     0.255   0.080        0.2050          0.0895          0.0395   \n",
       "\n",
       "   Shell weight  Sex_F  \n",
       "0         0.150      0  \n",
       "1         0.070      0  \n",
       "2         0.210      1  \n",
       "3         0.155      0  \n",
       "4         0.055      0  "
      ]
     },
     "execution_count": 37,
     "metadata": {},
     "output_type": "execute_result"
    }
   ],
   "source": [
    "X.head()"
   ]
  },
  {
   "cell_type": "code",
   "execution_count": 38,
   "id": "e41e6651",
   "metadata": {},
   "outputs": [
    {
     "data": {
      "text/html": [
       "<div>\n",
       "<style scoped>\n",
       "    .dataframe tbody tr th:only-of-type {\n",
       "        vertical-align: middle;\n",
       "    }\n",
       "\n",
       "    .dataframe tbody tr th {\n",
       "        vertical-align: top;\n",
       "    }\n",
       "\n",
       "    .dataframe thead th {\n",
       "        text-align: right;\n",
       "    }\n",
       "</style>\n",
       "<table border=\"1\" class=\"dataframe\">\n",
       "  <thead>\n",
       "    <tr style=\"text-align: right;\">\n",
       "      <th></th>\n",
       "      <th>Adult</th>\n",
       "    </tr>\n",
       "  </thead>\n",
       "  <tbody>\n",
       "    <tr>\n",
       "      <th>0</th>\n",
       "      <td>1</td>\n",
       "    </tr>\n",
       "    <tr>\n",
       "      <th>1</th>\n",
       "      <td>0</td>\n",
       "    </tr>\n",
       "    <tr>\n",
       "      <th>2</th>\n",
       "      <td>1</td>\n",
       "    </tr>\n",
       "    <tr>\n",
       "      <th>3</th>\n",
       "      <td>1</td>\n",
       "    </tr>\n",
       "    <tr>\n",
       "      <th>4</th>\n",
       "      <td>0</td>\n",
       "    </tr>\n",
       "  </tbody>\n",
       "</table>\n",
       "</div>"
      ],
      "text/plain": [
       "   Adult\n",
       "0      1\n",
       "1      0\n",
       "2      1\n",
       "3      1\n",
       "4      0"
      ]
     },
     "execution_count": 38,
     "metadata": {},
     "output_type": "execute_result"
    }
   ],
   "source": [
    "y.head()"
   ]
  },
  {
   "cell_type": "code",
   "execution_count": 39,
   "id": "7eaf39d5",
   "metadata": {},
   "outputs": [],
   "source": [
    "from sklearn.model_selection import train_test_split\n",
    "\n",
    "X_train, X_test, y_train, y_test = train_test_split(X, y, test_size=0.3, random_state=3)"
   ]
  },
  {
   "cell_type": "code",
   "execution_count": 40,
   "id": "43561389",
   "metadata": {},
   "outputs": [
    {
     "name": "stderr",
     "output_type": "stream",
     "text": [
      "/home/ishank24/anaconda3/envs/mypythonenv/lib/python3.9/site-packages/sklearn/utils/validation.py:985: DataConversionWarning: A column-vector y was passed when a 1d array was expected. Please change the shape of y to (n_samples, ), for example using ravel().\n",
      "  y = column_or_1d(y, warn=True)\n"
     ]
    },
    {
     "data": {
      "text/plain": [
       "LogisticRegression()"
      ]
     },
     "execution_count": 40,
     "metadata": {},
     "output_type": "execute_result"
    }
   ],
   "source": [
    "from sklearn.linear_model import LogisticRegression\n",
    "\n",
    "logreg = LogisticRegression()\n",
    "\n",
    "logreg.fit(X_train, y_train)"
   ]
  },
  {
   "cell_type": "code",
   "execution_count": 41,
   "id": "5b087f01",
   "metadata": {},
   "outputs": [],
   "source": [
    "y_test_pred = logreg.predict(X_test)"
   ]
  },
  {
   "cell_type": "code",
   "execution_count": 42,
   "id": "4739b478",
   "metadata": {},
   "outputs": [
    {
     "data": {
      "text/plain": [
       "<sklearn.metrics._plot.confusion_matrix.ConfusionMatrixDisplay at 0x7f85f881f6a0>"
      ]
     },
     "execution_count": 42,
     "metadata": {},
     "output_type": "execute_result"
    },
    {
     "data": {
      "image/png": "[encoded data removed]",
      "text/plain": [
       "<Figure size 432x288 with 2 Axes>"
      ]
     },
     "metadata": {
      "needs_background": "light"
     },
     "output_type": "display_data"
    }
   ],
   "source": [
    "from sklearn.metrics import ConfusionMatrixDisplay\n",
    "\n",
    "ConfusionMatrixDisplay.from_predictions(y_test, y_test_pred, normalize='true')"
   ]
  },
  {
   "cell_type": "code",
   "execution_count": 43,
   "id": "4e885ac7",
   "metadata": {},
   "outputs": [],
   "source": [
    "from sklearn.metrics import accuracy_score"
   ]
  },
  {
   "cell_type": "code",
   "execution_count": 44,
   "id": "d8b36742",
   "metadata": {},
   "outputs": [
    {
     "data": {
      "text/plain": [
       "0.182615629984051"
      ]
     },
     "execution_count": 44,
     "metadata": {},
     "output_type": "execute_result"
    }
   ],
   "source": [
    "1 - accuracy_score(y_test, y_test_pred)"
   ]
  },
  {
   "cell_type": "markdown",
   "id": "29e392c2",
   "metadata": {},
   "source": [
    "<a name = Section4></a>\n",
    "# **4 Case Study (Loan Prediction)**"
   ]
  },
  {
   "cell_type": "code",
   "execution_count": 45,
   "id": "fd67aaf3",
   "metadata": {},
   "outputs": [],
   "source": [
    "import pandas as pd\n",
    "import numpy as np\n",
    "import matplotlib.pyplot as plt\n",
    "import seaborn as sns\n",
    "import os\n",
    "\n",
    "from sklearn.model_selection import train_test_split\n",
    "from sklearn.linear_model import LogisticRegression\n",
    "from sklearn.metrics import accuracy_score, confusion_matrix, classification_report, ConfusionMatrixDisplay\n",
    "from sklearn.preprocessing import LabelEncoder"
   ]
  },
  {
   "cell_type": "markdown",
   "id": "7ffef52f",
   "metadata": {},
   "source": [
    "<a name = Section41></a>\n",
    "## **4.1 Load and Audit the data**"
   ]
  },
  {
   "cell_type": "code",
   "execution_count": 46,
   "id": "13733472",
   "metadata": {},
   "outputs": [],
   "source": [
    "train = pd.read_csv(os.getcwd() + '/.data/' + 'loan_prediction_train.csv')\n",
    "test = pd.read_csv(os.getcwd() + '/.data/' + 'loan_prediction_test.csv')"
   ]
  },
  {
   "cell_type": "code",
   "execution_count": 47,
   "id": "483dc0ca",
   "metadata": {},
   "outputs": [
    {
     "name": "stdout",
     "output_type": "stream",
     "text": [
      "train data:  (614, 13)\n",
      "test data:  (367, 12)\n"
     ]
    }
   ],
   "source": [
    "### shape\n",
    "\n",
    "print(\"train data: \",train.shape)\n",
    "print(\"test data: \",test.shape)"
   ]
  },
  {
   "cell_type": "code",
   "execution_count": 48,
   "id": "a8f3f693",
   "metadata": {},
   "outputs": [
    {
     "name": "stdout",
     "output_type": "stream",
     "text": [
      "<class 'pandas.core.frame.DataFrame'>\n",
      "RangeIndex: 614 entries, 0 to 613\n",
      "Data columns (total 13 columns):\n",
      " #   Column             Non-Null Count  Dtype  \n",
      "---  ------             --------------  -----  \n",
      " 0   Loan_ID            614 non-null    object \n",
      " 1   Gender             601 non-null    object \n",
      " 2   Married            611 non-null    object \n",
      " 3   Dependents         599 non-null    object \n",
      " 4   Education          614 non-null    object \n",
      " 5   Self_Employed      582 non-null    object \n",
      " 6   ApplicantIncome    614 non-null    int64  \n",
      " 7   CoapplicantIncome  614 non-null    float64\n",
      " 8   LoanAmount         592 non-null    float64\n",
      " 9   Loan_Amount_Term   600 non-null    float64\n",
      " 10  Credit_History     564 non-null    float64\n",
      " 11  Property_Area      614 non-null    object \n",
      " 12  Loan_Status        614 non-null    object \n",
      "dtypes: float64(4), int64(1), object(8)\n",
      "memory usage: 62.5+ KB\n"
     ]
    }
   ],
   "source": [
    "### info\n",
    "\n",
    "train.info()"
   ]
  },
  {
   "cell_type": "code",
   "execution_count": 49,
   "id": "d99c8c58",
   "metadata": {},
   "outputs": [
    {
     "data": {
      "text/plain": [
       "Loan_ID               0\n",
       "Gender               13\n",
       "Married               3\n",
       "Dependents           15\n",
       "Education             0\n",
       "Self_Employed        32\n",
       "ApplicantIncome       0\n",
       "CoapplicantIncome     0\n",
       "LoanAmount           22\n",
       "Loan_Amount_Term     14\n",
       "Credit_History       50\n",
       "Property_Area         0\n",
       "Loan_Status           0\n",
       "dtype: int64"
      ]
     },
     "execution_count": 49,
     "metadata": {},
     "output_type": "execute_result"
    }
   ],
   "source": [
    "### handle missing values\n",
    "\n",
    "train.isna().sum()"
   ]
  },
  {
   "cell_type": "markdown",
   "id": "903a05b7",
   "metadata": {},
   "source": [
    "<a name = Section42></a>\n",
    "## **4.2 Imputation of missing values**\n",
    "\n",
    "1. Categorical/Object dtype: Mode(Frequency)\n",
    "2. Continuous/Int and Float dtype: Median"
   ]
  },
  {
   "cell_type": "code",
   "execution_count": 50,
   "id": "9b1f9435",
   "metadata": {},
   "outputs": [],
   "source": [
    "### make a copy of the data\n",
    "\n",
    "train_1 = train.copy()"
   ]
  },
  {
   "cell_type": "code",
   "execution_count": 51,
   "id": "5ba09fae",
   "metadata": {},
   "outputs": [],
   "source": [
    "### imputing Gender with male values(mode)\n",
    "\n",
    "train_1['Gender'] = np.where(train_1['Gender'].isna(), train_1['Gender'].mode()[0], train_1['Gender'])"
   ]
  },
  {
   "cell_type": "code",
   "execution_count": 52,
   "id": "c18bb3dc",
   "metadata": {},
   "outputs": [
    {
     "data": {
      "text/plain": [
       "Loan_ID               0\n",
       "Gender                0\n",
       "Married               3\n",
       "Dependents           15\n",
       "Education             0\n",
       "Self_Employed        32\n",
       "ApplicantIncome       0\n",
       "CoapplicantIncome     0\n",
       "LoanAmount           22\n",
       "Loan_Amount_Term     14\n",
       "Credit_History       50\n",
       "Property_Area         0\n",
       "Loan_Status           0\n",
       "dtype: int64"
      ]
     },
     "execution_count": 52,
     "metadata": {},
     "output_type": "execute_result"
    }
   ],
   "source": [
    "train_1.isna().sum()"
   ]
  },
  {
   "cell_type": "code",
   "execution_count": 53,
   "id": "48857b85",
   "metadata": {},
   "outputs": [
    {
     "data": {
      "text/plain": [
       "Yes    398\n",
       "No     213\n",
       "Name: Married, dtype: int64"
      ]
     },
     "execution_count": 53,
     "metadata": {},
     "output_type": "execute_result"
    }
   ],
   "source": [
    "### imputing Married column with mode\n",
    "\n",
    "train_1['Married'].value_counts()"
   ]
  },
  {
   "cell_type": "code",
   "execution_count": 54,
   "id": "900ed37c",
   "metadata": {},
   "outputs": [],
   "source": [
    "train_1['Married'] = np.where(train_1['Married'].isna(), train_1['Married'].mode()[0], train_1['Married'])"
   ]
  },
  {
   "cell_type": "code",
   "execution_count": 55,
   "id": "7383b833",
   "metadata": {},
   "outputs": [
    {
     "data": {
      "text/plain": [
       "Loan_ID               0\n",
       "Gender                0\n",
       "Married               0\n",
       "Dependents           15\n",
       "Education             0\n",
       "Self_Employed        32\n",
       "ApplicantIncome       0\n",
       "CoapplicantIncome     0\n",
       "LoanAmount           22\n",
       "Loan_Amount_Term     14\n",
       "Credit_History       50\n",
       "Property_Area         0\n",
       "Loan_Status           0\n",
       "dtype: int64"
      ]
     },
     "execution_count": 55,
     "metadata": {},
     "output_type": "execute_result"
    }
   ],
   "source": [
    "train_1.isna().sum()"
   ]
  },
  {
   "cell_type": "code",
   "execution_count": 56,
   "id": "2016e0c6",
   "metadata": {},
   "outputs": [
    {
     "data": {
      "text/plain": [
       "No     500\n",
       "Yes     82\n",
       "Name: Self_Employed, dtype: int64"
      ]
     },
     "execution_count": 56,
     "metadata": {},
     "output_type": "execute_result"
    }
   ],
   "source": [
    "### imputing Self_employed column\n",
    "\n",
    "train_1['Self_Employed'].value_counts()"
   ]
  },
  {
   "cell_type": "code",
   "execution_count": 57,
   "id": "d1d2fa1c",
   "metadata": {},
   "outputs": [],
   "source": [
    "train_1['Self_Employed'] = np.where(train_1['Self_Employed'].isna(), train_1['Self_Employed'].mode().item(), train_1['Self_Employed'])"
   ]
  },
  {
   "cell_type": "code",
   "execution_count": 58,
   "id": "2c7ea086",
   "metadata": {},
   "outputs": [
    {
     "data": {
      "text/plain": [
       "Loan_ID               0\n",
       "Gender                0\n",
       "Married               0\n",
       "Dependents           15\n",
       "Education             0\n",
       "Self_Employed         0\n",
       "ApplicantIncome       0\n",
       "CoapplicantIncome     0\n",
       "LoanAmount           22\n",
       "Loan_Amount_Term     14\n",
       "Credit_History       50\n",
       "Property_Area         0\n",
       "Loan_Status           0\n",
       "dtype: int64"
      ]
     },
     "execution_count": 58,
     "metadata": {},
     "output_type": "execute_result"
    }
   ],
   "source": [
    "train_1.isna().sum()"
   ]
  },
  {
   "cell_type": "code",
   "execution_count": 59,
   "id": "cc8a2c00",
   "metadata": {},
   "outputs": [
    {
     "data": {
      "text/plain": [
       "0     345\n",
       "1     102\n",
       "2     101\n",
       "3+     51\n",
       "Name: Dependents, dtype: int64"
      ]
     },
     "execution_count": 59,
     "metadata": {},
     "output_type": "execute_result"
    }
   ],
   "source": [
    "train_1['Dependents'].value_counts()"
   ]
  },
  {
   "cell_type": "code",
   "execution_count": 60,
   "id": "a97b14e1",
   "metadata": {},
   "outputs": [],
   "source": [
    "### replace '3+' with 3\n",
    "\n",
    "train_1['Dependents'].replace(to_replace='3+', value=3, inplace=True)"
   ]
  },
  {
   "cell_type": "code",
   "execution_count": 61,
   "id": "dd0f9739",
   "metadata": {},
   "outputs": [
    {
     "data": {
      "text/plain": [
       "0    345\n",
       "1    102\n",
       "2    101\n",
       "3     51\n",
       "Name: Dependents, dtype: int64"
      ]
     },
     "execution_count": 61,
     "metadata": {},
     "output_type": "execute_result"
    }
   ],
   "source": [
    "train_1['Dependents'].value_counts()"
   ]
  },
  {
   "cell_type": "code",
   "execution_count": 62,
   "id": "43a0276b",
   "metadata": {},
   "outputs": [
    {
     "data": {
      "text/plain": [
       "'0'"
      ]
     },
     "execution_count": 62,
     "metadata": {},
     "output_type": "execute_result"
    }
   ],
   "source": [
    "train_1['Dependents'].mode().item()"
   ]
  },
  {
   "cell_type": "code",
   "execution_count": 63,
   "id": "3427e858",
   "metadata": {},
   "outputs": [],
   "source": [
    "### impute the missing values in dependents with mode\n",
    "\n",
    "train_1['Dependents'] = np.where(train_1['Dependents'].isna(), train_1['Dependents'].mode().item(), train_1['Dependents'])"
   ]
  },
  {
   "cell_type": "code",
   "execution_count": 64,
   "id": "7dc28abe",
   "metadata": {},
   "outputs": [
    {
     "data": {
      "text/plain": [
       "Loan_ID               0\n",
       "Gender                0\n",
       "Married               0\n",
       "Dependents            0\n",
       "Education             0\n",
       "Self_Employed         0\n",
       "ApplicantIncome       0\n",
       "CoapplicantIncome     0\n",
       "LoanAmount           22\n",
       "Loan_Amount_Term     14\n",
       "Credit_History       50\n",
       "Property_Area         0\n",
       "Loan_Status           0\n",
       "dtype: int64"
      ]
     },
     "execution_count": 64,
     "metadata": {},
     "output_type": "execute_result"
    }
   ],
   "source": [
    "train_1.isna().sum()"
   ]
  },
  {
   "cell_type": "code",
   "execution_count": 65,
   "id": "965f0155",
   "metadata": {},
   "outputs": [
    {
     "name": "stdout",
     "output_type": "stream",
     "text": [
      "<class 'pandas.core.frame.DataFrame'>\n",
      "RangeIndex: 614 entries, 0 to 613\n",
      "Data columns (total 13 columns):\n",
      " #   Column             Non-Null Count  Dtype  \n",
      "---  ------             --------------  -----  \n",
      " 0   Loan_ID            614 non-null    object \n",
      " 1   Gender             614 non-null    object \n",
      " 2   Married            614 non-null    object \n",
      " 3   Dependents         614 non-null    object \n",
      " 4   Education          614 non-null    object \n",
      " 5   Self_Employed      614 non-null    object \n",
      " 6   ApplicantIncome    614 non-null    int64  \n",
      " 7   CoapplicantIncome  614 non-null    float64\n",
      " 8   LoanAmount         592 non-null    float64\n",
      " 9   Loan_Amount_Term   600 non-null    float64\n",
      " 10  Credit_History     564 non-null    float64\n",
      " 11  Property_Area      614 non-null    object \n",
      " 12  Loan_Status        614 non-null    object \n",
      "dtypes: float64(4), int64(1), object(8)\n",
      "memory usage: 62.5+ KB\n"
     ]
    }
   ],
   "source": [
    "train_1.info()"
   ]
  },
  {
   "cell_type": "code",
   "execution_count": 66,
   "id": "356f0cae",
   "metadata": {},
   "outputs": [],
   "source": [
    "### Imputation of Loan Amount and Loan Amount Term\n",
    "\n",
    "train_1['LoanAmount'] = np.where(train_1['LoanAmount'].isna(), train_1['LoanAmount'].median(), train_1['LoanAmount'])"
   ]
  },
  {
   "cell_type": "code",
   "execution_count": 67,
   "id": "76fdfb3b",
   "metadata": {},
   "outputs": [
    {
     "data": {
      "text/plain": [
       "0"
      ]
     },
     "execution_count": 67,
     "metadata": {},
     "output_type": "execute_result"
    }
   ],
   "source": [
    "train_1['LoanAmount'].isna().sum()"
   ]
  },
  {
   "cell_type": "code",
   "execution_count": 68,
   "id": "913d0ac4",
   "metadata": {},
   "outputs": [],
   "source": [
    "train_1['Loan_Amount_Term'] = np.where(train_1['Loan_Amount_Term'].isna(), train_1['Loan_Amount_Term'].median(), train_1['Loan_Amount_Term'])"
   ]
  },
  {
   "cell_type": "code",
   "execution_count": 69,
   "id": "822ea5c2",
   "metadata": {},
   "outputs": [
    {
     "data": {
      "text/plain": [
       "0"
      ]
     },
     "execution_count": 69,
     "metadata": {},
     "output_type": "execute_result"
    }
   ],
   "source": [
    "train_1['Loan_Amount_Term'].isna().sum()"
   ]
  },
  {
   "cell_type": "code",
   "execution_count": 70,
   "id": "b1be6be2",
   "metadata": {},
   "outputs": [
    {
     "name": "stdout",
     "output_type": "stream",
     "text": [
      "<class 'pandas.core.frame.DataFrame'>\n",
      "RangeIndex: 614 entries, 0 to 613\n",
      "Data columns (total 13 columns):\n",
      " #   Column             Non-Null Count  Dtype  \n",
      "---  ------             --------------  -----  \n",
      " 0   Loan_ID            614 non-null    object \n",
      " 1   Gender             614 non-null    object \n",
      " 2   Married            614 non-null    object \n",
      " 3   Dependents         614 non-null    object \n",
      " 4   Education          614 non-null    object \n",
      " 5   Self_Employed      614 non-null    object \n",
      " 6   ApplicantIncome    614 non-null    int64  \n",
      " 7   CoapplicantIncome  614 non-null    float64\n",
      " 8   LoanAmount         614 non-null    float64\n",
      " 9   Loan_Amount_Term   614 non-null    float64\n",
      " 10  Credit_History     564 non-null    float64\n",
      " 11  Property_Area      614 non-null    object \n",
      " 12  Loan_Status        614 non-null    object \n",
      "dtypes: float64(4), int64(1), object(8)\n",
      "memory usage: 62.5+ KB\n"
     ]
    }
   ],
   "source": [
    "train_1.info()"
   ]
  },
  {
   "cell_type": "code",
   "execution_count": 71,
   "id": "f693f470",
   "metadata": {},
   "outputs": [
    {
     "data": {
      "text/plain": [
       "1.0"
      ]
     },
     "execution_count": 71,
     "metadata": {},
     "output_type": "execute_result"
    }
   ],
   "source": [
    "train_1['Credit_History'].mode().item()"
   ]
  },
  {
   "cell_type": "code",
   "execution_count": 72,
   "id": "d125c256",
   "metadata": {},
   "outputs": [],
   "source": [
    "### Imputation of credit history\n",
    "\n",
    "train_1['Credit_History'] = np.where(train_1['Credit_History'].isna(), train_1['Credit_History'].mode().item(), train_1['Credit_History'])"
   ]
  },
  {
   "cell_type": "code",
   "execution_count": 73,
   "id": "67c4af4c",
   "metadata": {},
   "outputs": [
    {
     "data": {
      "text/plain": [
       "Loan_ID              0\n",
       "Gender               0\n",
       "Married              0\n",
       "Dependents           0\n",
       "Education            0\n",
       "Self_Employed        0\n",
       "ApplicantIncome      0\n",
       "CoapplicantIncome    0\n",
       "LoanAmount           0\n",
       "Loan_Amount_Term     0\n",
       "Credit_History       0\n",
       "Property_Area        0\n",
       "Loan_Status          0\n",
       "dtype: int64"
      ]
     },
     "execution_count": 73,
     "metadata": {},
     "output_type": "execute_result"
    }
   ],
   "source": [
    "train_1.isna().sum()"
   ]
  },
  {
   "cell_type": "markdown",
   "id": "91a95307",
   "metadata": {},
   "source": [
    "<a name = Section43></a>\n",
    "## **4.3 Encoding of categorical variables**\n"
   ]
  },
  {
   "cell_type": "code",
   "execution_count": 74,
   "id": "0872d9c4",
   "metadata": {},
   "outputs": [],
   "source": [
    "le = LabelEncoder()"
   ]
  },
  {
   "cell_type": "code",
   "execution_count": 75,
   "id": "d035f7bc",
   "metadata": {},
   "outputs": [],
   "source": [
    "### Encoding Gender\n",
    "\n",
    "train_1['Gender'] = le.fit_transform(train_1['Gender'])"
   ]
  },
  {
   "cell_type": "code",
   "execution_count": 76,
   "id": "3a656884",
   "metadata": {},
   "outputs": [
    {
     "data": {
      "text/plain": [
       "1    502\n",
       "0    112\n",
       "Name: Gender, dtype: int64"
      ]
     },
     "execution_count": 76,
     "metadata": {},
     "output_type": "execute_result"
    }
   ],
   "source": [
    "train_1['Gender'].value_counts()"
   ]
  },
  {
   "cell_type": "code",
   "execution_count": 77,
   "id": "d98cac74",
   "metadata": {},
   "outputs": [],
   "source": [
    "### Encoding Married\n",
    "\n",
    "train_1['Married'] = le.fit_transform(train_1['Married'])"
   ]
  },
  {
   "cell_type": "code",
   "execution_count": 78,
   "id": "edc408aa",
   "metadata": {},
   "outputs": [
    {
     "data": {
      "text/plain": [
       "1    401\n",
       "0    213\n",
       "Name: Married, dtype: int64"
      ]
     },
     "execution_count": 78,
     "metadata": {},
     "output_type": "execute_result"
    }
   ],
   "source": [
    "train_1['Married'].value_counts()"
   ]
  },
  {
   "cell_type": "code",
   "execution_count": 79,
   "id": "be65e469",
   "metadata": {},
   "outputs": [],
   "source": [
    "train_1['Education'] = le.fit_transform(train_1['Education'])"
   ]
  },
  {
   "cell_type": "code",
   "execution_count": 80,
   "id": "c5d23a76",
   "metadata": {},
   "outputs": [
    {
     "data": {
      "text/plain": [
       "0    480\n",
       "1    134\n",
       "Name: Education, dtype: int64"
      ]
     },
     "execution_count": 80,
     "metadata": {},
     "output_type": "execute_result"
    }
   ],
   "source": [
    "train_1['Education'].value_counts()"
   ]
  },
  {
   "cell_type": "code",
   "execution_count": 81,
   "id": "e93e7aa9",
   "metadata": {},
   "outputs": [
    {
     "data": {
      "text/plain": [
       "0    532\n",
       "1     82\n",
       "Name: Self_Employed, dtype: int64"
      ]
     },
     "execution_count": 81,
     "metadata": {},
     "output_type": "execute_result"
    }
   ],
   "source": [
    "### Encoding Self_Employed\n",
    "\n",
    "train_1['Self_Employed'] = le.fit_transform(train_1['Self_Employed'])\n",
    "train_1['Self_Employed'].value_counts()"
   ]
  },
  {
   "cell_type": "code",
   "execution_count": 82,
   "id": "90feaddc",
   "metadata": {},
   "outputs": [
    {
     "data": {
      "text/plain": [
       "1    233\n",
       "2    202\n",
       "0    179\n",
       "Name: Property_Area, dtype: int64"
      ]
     },
     "execution_count": 82,
     "metadata": {},
     "output_type": "execute_result"
    }
   ],
   "source": [
    "### Encoding Property_Area\n",
    "\n",
    "train_1['Property_Area'] = le.fit_transform(train_1['Property_Area'])\n",
    "train_1['Property_Area'].value_counts()"
   ]
  },
  {
   "cell_type": "code",
   "execution_count": 83,
   "id": "387ebd23",
   "metadata": {},
   "outputs": [
    {
     "data": {
      "text/plain": [
       "1    422\n",
       "0    192\n",
       "Name: Loan_Status, dtype: int64"
      ]
     },
     "execution_count": 83,
     "metadata": {},
     "output_type": "execute_result"
    }
   ],
   "source": [
    "### Encoding Loan_Status\n",
    "\n",
    "train_1['Loan_Status'] = le.fit_transform(train_1['Loan_Status'])\n",
    "train_1['Loan_Status'].value_counts()"
   ]
  },
  {
   "cell_type": "code",
   "execution_count": 84,
   "id": "6ff9210e",
   "metadata": {},
   "outputs": [],
   "source": [
    "### Changing Dependents datatype\n",
    "\n",
    "train_1['Dependents'] = train_1['Dependents'].astype(int)"
   ]
  },
  {
   "cell_type": "code",
   "execution_count": 85,
   "id": "43b116fa",
   "metadata": {},
   "outputs": [
    {
     "name": "stdout",
     "output_type": "stream",
     "text": [
      "<class 'pandas.core.frame.DataFrame'>\n",
      "RangeIndex: 614 entries, 0 to 613\n",
      "Data columns (total 13 columns):\n",
      " #   Column             Non-Null Count  Dtype  \n",
      "---  ------             --------------  -----  \n",
      " 0   Loan_ID            614 non-null    object \n",
      " 1   Gender             614 non-null    int64  \n",
      " 2   Married            614 non-null    int64  \n",
      " 3   Dependents         614 non-null    int64  \n",
      " 4   Education          614 non-null    int64  \n",
      " 5   Self_Employed      614 non-null    int64  \n",
      " 6   ApplicantIncome    614 non-null    int64  \n",
      " 7   CoapplicantIncome  614 non-null    float64\n",
      " 8   LoanAmount         614 non-null    float64\n",
      " 9   Loan_Amount_Term   614 non-null    float64\n",
      " 10  Credit_History     614 non-null    float64\n",
      " 11  Property_Area      614 non-null    int64  \n",
      " 12  Loan_Status        614 non-null    int64  \n",
      "dtypes: float64(4), int64(8), object(1)\n",
      "memory usage: 62.5+ KB\n"
     ]
    }
   ],
   "source": [
    "train_1.info()"
   ]
  },
  {
   "cell_type": "code",
   "execution_count": 86,
   "id": "31efc9c2",
   "metadata": {},
   "outputs": [
    {
     "data": {
      "text/html": [
       "<div>\n",
       "<style scoped>\n",
       "    .dataframe tbody tr th:only-of-type {\n",
       "        vertical-align: middle;\n",
       "    }\n",
       "\n",
       "    .dataframe tbody tr th {\n",
       "        vertical-align: top;\n",
       "    }\n",
       "\n",
       "    .dataframe thead th {\n",
       "        text-align: right;\n",
       "    }\n",
       "</style>\n",
       "<table border=\"1\" class=\"dataframe\">\n",
       "  <thead>\n",
       "    <tr style=\"text-align: right;\">\n",
       "      <th></th>\n",
       "      <th>Gender</th>\n",
       "      <th>Married</th>\n",
       "      <th>Dependents</th>\n",
       "      <th>Education</th>\n",
       "      <th>Self_Employed</th>\n",
       "      <th>ApplicantIncome</th>\n",
       "      <th>CoapplicantIncome</th>\n",
       "      <th>LoanAmount</th>\n",
       "      <th>Loan_Amount_Term</th>\n",
       "      <th>Credit_History</th>\n",
       "      <th>Property_Area</th>\n",
       "      <th>Loan_Status</th>\n",
       "    </tr>\n",
       "  </thead>\n",
       "  <tbody>\n",
       "    <tr>\n",
       "      <th>count</th>\n",
       "      <td>614.000000</td>\n",
       "      <td>614.000000</td>\n",
       "      <td>614.000000</td>\n",
       "      <td>614.000000</td>\n",
       "      <td>614.000000</td>\n",
       "      <td>614.000000</td>\n",
       "      <td>614.000000</td>\n",
       "      <td>614.000000</td>\n",
       "      <td>614.000000</td>\n",
       "      <td>614.000000</td>\n",
       "      <td>614.000000</td>\n",
       "      <td>614.000000</td>\n",
       "    </tr>\n",
       "    <tr>\n",
       "      <th>mean</th>\n",
       "      <td>0.817590</td>\n",
       "      <td>0.653094</td>\n",
       "      <td>0.744300</td>\n",
       "      <td>0.218241</td>\n",
       "      <td>0.133550</td>\n",
       "      <td>5403.459283</td>\n",
       "      <td>1621.245798</td>\n",
       "      <td>145.752443</td>\n",
       "      <td>342.410423</td>\n",
       "      <td>0.855049</td>\n",
       "      <td>1.037459</td>\n",
       "      <td>0.687296</td>\n",
       "    </tr>\n",
       "    <tr>\n",
       "      <th>std</th>\n",
       "      <td>0.386497</td>\n",
       "      <td>0.476373</td>\n",
       "      <td>1.009623</td>\n",
       "      <td>0.413389</td>\n",
       "      <td>0.340446</td>\n",
       "      <td>6109.041673</td>\n",
       "      <td>2926.248369</td>\n",
       "      <td>84.107233</td>\n",
       "      <td>64.428629</td>\n",
       "      <td>0.352339</td>\n",
       "      <td>0.787482</td>\n",
       "      <td>0.463973</td>\n",
       "    </tr>\n",
       "    <tr>\n",
       "      <th>min</th>\n",
       "      <td>0.000000</td>\n",
       "      <td>0.000000</td>\n",
       "      <td>0.000000</td>\n",
       "      <td>0.000000</td>\n",
       "      <td>0.000000</td>\n",
       "      <td>150.000000</td>\n",
       "      <td>0.000000</td>\n",
       "      <td>9.000000</td>\n",
       "      <td>12.000000</td>\n",
       "      <td>0.000000</td>\n",
       "      <td>0.000000</td>\n",
       "      <td>0.000000</td>\n",
       "    </tr>\n",
       "    <tr>\n",
       "      <th>25%</th>\n",
       "      <td>1.000000</td>\n",
       "      <td>0.000000</td>\n",
       "      <td>0.000000</td>\n",
       "      <td>0.000000</td>\n",
       "      <td>0.000000</td>\n",
       "      <td>2877.500000</td>\n",
       "      <td>0.000000</td>\n",
       "      <td>100.250000</td>\n",
       "      <td>360.000000</td>\n",
       "      <td>1.000000</td>\n",
       "      <td>0.000000</td>\n",
       "      <td>0.000000</td>\n",
       "    </tr>\n",
       "    <tr>\n",
       "      <th>50%</th>\n",
       "      <td>1.000000</td>\n",
       "      <td>1.000000</td>\n",
       "      <td>0.000000</td>\n",
       "      <td>0.000000</td>\n",
       "      <td>0.000000</td>\n",
       "      <td>3812.500000</td>\n",
       "      <td>1188.500000</td>\n",
       "      <td>128.000000</td>\n",
       "      <td>360.000000</td>\n",
       "      <td>1.000000</td>\n",
       "      <td>1.000000</td>\n",
       "      <td>1.000000</td>\n",
       "    </tr>\n",
       "    <tr>\n",
       "      <th>75%</th>\n",
       "      <td>1.000000</td>\n",
       "      <td>1.000000</td>\n",
       "      <td>1.000000</td>\n",
       "      <td>0.000000</td>\n",
       "      <td>0.000000</td>\n",
       "      <td>5795.000000</td>\n",
       "      <td>2297.250000</td>\n",
       "      <td>164.750000</td>\n",
       "      <td>360.000000</td>\n",
       "      <td>1.000000</td>\n",
       "      <td>2.000000</td>\n",
       "      <td>1.000000</td>\n",
       "    </tr>\n",
       "    <tr>\n",
       "      <th>max</th>\n",
       "      <td>1.000000</td>\n",
       "      <td>1.000000</td>\n",
       "      <td>3.000000</td>\n",
       "      <td>1.000000</td>\n",
       "      <td>1.000000</td>\n",
       "      <td>81000.000000</td>\n",
       "      <td>41667.000000</td>\n",
       "      <td>700.000000</td>\n",
       "      <td>480.000000</td>\n",
       "      <td>1.000000</td>\n",
       "      <td>2.000000</td>\n",
       "      <td>1.000000</td>\n",
       "    </tr>\n",
       "  </tbody>\n",
       "</table>\n",
       "</div>"
      ],
      "text/plain": [
       "           Gender     Married  Dependents   Education  Self_Employed  \\\n",
       "count  614.000000  614.000000  614.000000  614.000000     614.000000   \n",
       "mean     0.817590    0.653094    0.744300    0.218241       0.133550   \n",
       "std      0.386497    0.476373    1.009623    0.413389       0.340446   \n",
       "min      0.000000    0.000000    0.000000    0.000000       0.000000   \n",
       "25%      1.000000    0.000000    0.000000    0.000000       0.000000   \n",
       "50%      1.000000    1.000000    0.000000    0.000000       0.000000   \n",
       "75%      1.000000    1.000000    1.000000    0.000000       0.000000   \n",
       "max      1.000000    1.000000    3.000000    1.000000       1.000000   \n",
       "\n",
       "       ApplicantIncome  CoapplicantIncome  LoanAmount  Loan_Amount_Term  \\\n",
       "count       614.000000         614.000000  614.000000        614.000000   \n",
       "mean       5403.459283        1621.245798  145.752443        342.410423   \n",
       "std        6109.041673        2926.248369   84.107233         64.428629   \n",
       "min         150.000000           0.000000    9.000000         12.000000   \n",
       "25%        2877.500000           0.000000  100.250000        360.000000   \n",
       "50%        3812.500000        1188.500000  128.000000        360.000000   \n",
       "75%        5795.000000        2297.250000  164.750000        360.000000   \n",
       "max       81000.000000       41667.000000  700.000000        480.000000   \n",
       "\n",
       "       Credit_History  Property_Area  Loan_Status  \n",
       "count      614.000000     614.000000   614.000000  \n",
       "mean         0.855049       1.037459     0.687296  \n",
       "std          0.352339       0.787482     0.463973  \n",
       "min          0.000000       0.000000     0.000000  \n",
       "25%          1.000000       0.000000     0.000000  \n",
       "50%          1.000000       1.000000     1.000000  \n",
       "75%          1.000000       2.000000     1.000000  \n",
       "max          1.000000       2.000000     1.000000  "
      ]
     },
     "execution_count": 86,
     "metadata": {},
     "output_type": "execute_result"
    }
   ],
   "source": [
    "train_1.describe()"
   ]
  },
  {
   "cell_type": "code",
   "execution_count": 87,
   "id": "611fce6c",
   "metadata": {},
   "outputs": [
    {
     "data": {
      "image/png": "[encoded data removed]",
      "text/plain": [
       "<Figure size 2160x2160 with 156 Axes>"
      ]
     },
     "metadata": {
      "needs_background": "light"
     },
     "output_type": "display_data"
    }
   ],
   "source": [
    "sns.pairplot(train_1)\n",
    "plt.show()"
   ]
  },
  {
   "cell_type": "code",
   "execution_count": 88,
   "id": "9eed7c38",
   "metadata": {},
   "outputs": [
    {
     "data": {
      "text/html": [
       "<div>\n",
       "<style scoped>\n",
       "    .dataframe tbody tr th:only-of-type {\n",
       "        vertical-align: middle;\n",
       "    }\n",
       "\n",
       "    .dataframe tbody tr th {\n",
       "        vertical-align: top;\n",
       "    }\n",
       "\n",
       "    .dataframe thead th {\n",
       "        text-align: right;\n",
       "    }\n",
       "</style>\n",
       "<table border=\"1\" class=\"dataframe\">\n",
       "  <thead>\n",
       "    <tr style=\"text-align: right;\">\n",
       "      <th></th>\n",
       "      <th>Gender</th>\n",
       "      <th>Married</th>\n",
       "      <th>Dependents</th>\n",
       "      <th>Education</th>\n",
       "      <th>Self_Employed</th>\n",
       "      <th>ApplicantIncome</th>\n",
       "      <th>CoapplicantIncome</th>\n",
       "      <th>LoanAmount</th>\n",
       "      <th>Loan_Amount_Term</th>\n",
       "      <th>Credit_History</th>\n",
       "      <th>Property_Area</th>\n",
       "      <th>Loan_Status</th>\n",
       "    </tr>\n",
       "  </thead>\n",
       "  <tbody>\n",
       "    <tr>\n",
       "      <th>Gender</th>\n",
       "      <td>1.000000</td>\n",
       "      <td>0.364569</td>\n",
       "      <td>0.172914</td>\n",
       "      <td>0.045364</td>\n",
       "      <td>-0.000525</td>\n",
       "      <td>0.058809</td>\n",
       "      <td>0.082912</td>\n",
       "      <td>0.106904</td>\n",
       "      <td>-0.074030</td>\n",
       "      <td>0.009170</td>\n",
       "      <td>-0.025752</td>\n",
       "      <td>0.017987</td>\n",
       "    </tr>\n",
       "    <tr>\n",
       "      <th>Married</th>\n",
       "      <td>0.364569</td>\n",
       "      <td>1.000000</td>\n",
       "      <td>0.334216</td>\n",
       "      <td>0.012304</td>\n",
       "      <td>0.004489</td>\n",
       "      <td>0.051708</td>\n",
       "      <td>0.075948</td>\n",
       "      <td>0.146546</td>\n",
       "      <td>-0.100912</td>\n",
       "      <td>0.010938</td>\n",
       "      <td>0.004257</td>\n",
       "      <td>0.091478</td>\n",
       "    </tr>\n",
       "    <tr>\n",
       "      <th>Dependents</th>\n",
       "      <td>0.172914</td>\n",
       "      <td>0.334216</td>\n",
       "      <td>1.000000</td>\n",
       "      <td>0.055752</td>\n",
       "      <td>0.056798</td>\n",
       "      <td>0.118202</td>\n",
       "      <td>0.030430</td>\n",
       "      <td>0.163103</td>\n",
       "      <td>-0.103864</td>\n",
       "      <td>-0.040160</td>\n",
       "      <td>-0.000244</td>\n",
       "      <td>0.010118</td>\n",
       "    </tr>\n",
       "    <tr>\n",
       "      <th>Education</th>\n",
       "      <td>0.045364</td>\n",
       "      <td>0.012304</td>\n",
       "      <td>0.055752</td>\n",
       "      <td>1.000000</td>\n",
       "      <td>-0.010383</td>\n",
       "      <td>-0.140760</td>\n",
       "      <td>-0.062290</td>\n",
       "      <td>-0.168759</td>\n",
       "      <td>-0.073928</td>\n",
       "      <td>-0.073658</td>\n",
       "      <td>-0.065243</td>\n",
       "      <td>-0.085884</td>\n",
       "    </tr>\n",
       "    <tr>\n",
       "      <th>Self_Employed</th>\n",
       "      <td>-0.000525</td>\n",
       "      <td>0.004489</td>\n",
       "      <td>0.056798</td>\n",
       "      <td>-0.010383</td>\n",
       "      <td>1.000000</td>\n",
       "      <td>0.127180</td>\n",
       "      <td>-0.016100</td>\n",
       "      <td>0.115100</td>\n",
       "      <td>-0.033739</td>\n",
       "      <td>-0.001550</td>\n",
       "      <td>-0.030860</td>\n",
       "      <td>-0.003700</td>\n",
       "    </tr>\n",
       "    <tr>\n",
       "      <th>ApplicantIncome</th>\n",
       "      <td>0.058809</td>\n",
       "      <td>0.051708</td>\n",
       "      <td>0.118202</td>\n",
       "      <td>-0.140760</td>\n",
       "      <td>0.127180</td>\n",
       "      <td>1.000000</td>\n",
       "      <td>-0.116605</td>\n",
       "      <td>0.565181</td>\n",
       "      <td>-0.046531</td>\n",
       "      <td>-0.018615</td>\n",
       "      <td>-0.009500</td>\n",
       "      <td>-0.004710</td>\n",
       "    </tr>\n",
       "    <tr>\n",
       "      <th>CoapplicantIncome</th>\n",
       "      <td>0.082912</td>\n",
       "      <td>0.075948</td>\n",
       "      <td>0.030430</td>\n",
       "      <td>-0.062290</td>\n",
       "      <td>-0.016100</td>\n",
       "      <td>-0.116605</td>\n",
       "      <td>1.000000</td>\n",
       "      <td>0.189218</td>\n",
       "      <td>-0.059383</td>\n",
       "      <td>0.011134</td>\n",
       "      <td>0.010522</td>\n",
       "      <td>-0.059187</td>\n",
       "    </tr>\n",
       "    <tr>\n",
       "      <th>LoanAmount</th>\n",
       "      <td>0.106904</td>\n",
       "      <td>0.146546</td>\n",
       "      <td>0.163103</td>\n",
       "      <td>-0.168759</td>\n",
       "      <td>0.115100</td>\n",
       "      <td>0.565181</td>\n",
       "      <td>0.189218</td>\n",
       "      <td>1.000000</td>\n",
       "      <td>0.036960</td>\n",
       "      <td>-0.000607</td>\n",
       "      <td>-0.046632</td>\n",
       "      <td>-0.033214</td>\n",
       "    </tr>\n",
       "    <tr>\n",
       "      <th>Loan_Amount_Term</th>\n",
       "      <td>-0.074030</td>\n",
       "      <td>-0.100912</td>\n",
       "      <td>-0.103864</td>\n",
       "      <td>-0.073928</td>\n",
       "      <td>-0.033739</td>\n",
       "      <td>-0.046531</td>\n",
       "      <td>-0.059383</td>\n",
       "      <td>0.036960</td>\n",
       "      <td>1.000000</td>\n",
       "      <td>-0.004705</td>\n",
       "      <td>-0.076120</td>\n",
       "      <td>-0.022549</td>\n",
       "    </tr>\n",
       "    <tr>\n",
       "      <th>Credit_History</th>\n",
       "      <td>0.009170</td>\n",
       "      <td>0.010938</td>\n",
       "      <td>-0.040160</td>\n",
       "      <td>-0.073658</td>\n",
       "      <td>-0.001550</td>\n",
       "      <td>-0.018615</td>\n",
       "      <td>0.011134</td>\n",
       "      <td>-0.000607</td>\n",
       "      <td>-0.004705</td>\n",
       "      <td>1.000000</td>\n",
       "      <td>0.001963</td>\n",
       "      <td>0.540556</td>\n",
       "    </tr>\n",
       "    <tr>\n",
       "      <th>Property_Area</th>\n",
       "      <td>-0.025752</td>\n",
       "      <td>0.004257</td>\n",
       "      <td>-0.000244</td>\n",
       "      <td>-0.065243</td>\n",
       "      <td>-0.030860</td>\n",
       "      <td>-0.009500</td>\n",
       "      <td>0.010522</td>\n",
       "      <td>-0.046632</td>\n",
       "      <td>-0.076120</td>\n",
       "      <td>0.001963</td>\n",
       "      <td>1.000000</td>\n",
       "      <td>0.032112</td>\n",
       "    </tr>\n",
       "    <tr>\n",
       "      <th>Loan_Status</th>\n",
       "      <td>0.017987</td>\n",
       "      <td>0.091478</td>\n",
       "      <td>0.010118</td>\n",
       "      <td>-0.085884</td>\n",
       "      <td>-0.003700</td>\n",
       "      <td>-0.004710</td>\n",
       "      <td>-0.059187</td>\n",
       "      <td>-0.033214</td>\n",
       "      <td>-0.022549</td>\n",
       "      <td>0.540556</td>\n",
       "      <td>0.032112</td>\n",
       "      <td>1.000000</td>\n",
       "    </tr>\n",
       "  </tbody>\n",
       "</table>\n",
       "</div>"
      ],
      "text/plain": [
       "                     Gender   Married  Dependents  Education  Self_Employed  \\\n",
       "Gender             1.000000  0.364569    0.172914   0.045364      -0.000525   \n",
       "Married            0.364569  1.000000    0.334216   0.012304       0.004489   \n",
       "Dependents         0.172914  0.334216    1.000000   0.055752       0.056798   \n",
       "Education          0.045364  0.012304    0.055752   1.000000      -0.010383   \n",
       "Self_Employed     -0.000525  0.004489    0.056798  -0.010383       1.000000   \n",
       "ApplicantIncome    0.058809  0.051708    0.118202  -0.140760       0.127180   \n",
       "CoapplicantIncome  0.082912  0.075948    0.030430  -0.062290      -0.016100   \n",
       "LoanAmount         0.106904  0.146546    0.163103  -0.168759       0.115100   \n",
       "Loan_Amount_Term  -0.074030 -0.100912   -0.103864  -0.073928      -0.033739   \n",
       "Credit_History     0.009170  0.010938   -0.040160  -0.073658      -0.001550   \n",
       "Property_Area     -0.025752  0.004257   -0.000244  -0.065243      -0.030860   \n",
       "Loan_Status        0.017987  0.091478    0.010118  -0.085884      -0.003700   \n",
       "\n",
       "                   ApplicantIncome  CoapplicantIncome  LoanAmount  \\\n",
       "Gender                    0.058809           0.082912    0.106904   \n",
       "Married                   0.051708           0.075948    0.146546   \n",
       "Dependents                0.118202           0.030430    0.163103   \n",
       "Education                -0.140760          -0.062290   -0.168759   \n",
       "Self_Employed             0.127180          -0.016100    0.115100   \n",
       "ApplicantIncome           1.000000          -0.116605    0.565181   \n",
       "CoapplicantIncome        -0.116605           1.000000    0.189218   \n",
       "LoanAmount                0.565181           0.189218    1.000000   \n",
       "Loan_Amount_Term         -0.046531          -0.059383    0.036960   \n",
       "Credit_History           -0.018615           0.011134   -0.000607   \n",
       "Property_Area            -0.009500           0.010522   -0.046632   \n",
       "Loan_Status              -0.004710          -0.059187   -0.033214   \n",
       "\n",
       "                   Loan_Amount_Term  Credit_History  Property_Area  \\\n",
       "Gender                    -0.074030        0.009170      -0.025752   \n",
       "Married                   -0.100912        0.010938       0.004257   \n",
       "Dependents                -0.103864       -0.040160      -0.000244   \n",
       "Education                 -0.073928       -0.073658      -0.065243   \n",
       "Self_Employed             -0.033739       -0.001550      -0.030860   \n",
       "ApplicantIncome           -0.046531       -0.018615      -0.009500   \n",
       "CoapplicantIncome         -0.059383        0.011134       0.010522   \n",
       "LoanAmount                 0.036960       -0.000607      -0.046632   \n",
       "Loan_Amount_Term           1.000000       -0.004705      -0.076120   \n",
       "Credit_History            -0.004705        1.000000       0.001963   \n",
       "Property_Area             -0.076120        0.001963       1.000000   \n",
       "Loan_Status               -0.022549        0.540556       0.032112   \n",
       "\n",
       "                   Loan_Status  \n",
       "Gender                0.017987  \n",
       "Married               0.091478  \n",
       "Dependents            0.010118  \n",
       "Education            -0.085884  \n",
       "Self_Employed        -0.003700  \n",
       "ApplicantIncome      -0.004710  \n",
       "CoapplicantIncome    -0.059187  \n",
       "LoanAmount           -0.033214  \n",
       "Loan_Amount_Term     -0.022549  \n",
       "Credit_History        0.540556  \n",
       "Property_Area         0.032112  \n",
       "Loan_Status           1.000000  "
      ]
     },
     "execution_count": 88,
     "metadata": {},
     "output_type": "execute_result"
    }
   ],
   "source": [
    "train_1.corr()"
   ]
  },
  {
   "cell_type": "markdown",
   "id": "176c5932",
   "metadata": {},
   "source": [
    "<a name = Section44></a>\n",
    "## **4.4 Prepare data for logistic regression**"
   ]
  },
  {
   "cell_type": "code",
   "execution_count": 89,
   "id": "ff2570ab",
   "metadata": {},
   "outputs": [],
   "source": [
    "X = train_1.iloc[: , train_1.columns != 'Loan_Status'].drop(columns=['Loan_ID'])"
   ]
  },
  {
   "cell_type": "code",
   "execution_count": 90,
   "id": "05c70a22",
   "metadata": {},
   "outputs": [
    {
     "data": {
      "text/html": [
       "<div>\n",
       "<style scoped>\n",
       "    .dataframe tbody tr th:only-of-type {\n",
       "        vertical-align: middle;\n",
       "    }\n",
       "\n",
       "    .dataframe tbody tr th {\n",
       "        vertical-align: top;\n",
       "    }\n",
       "\n",
       "    .dataframe thead th {\n",
       "        text-align: right;\n",
       "    }\n",
       "</style>\n",
       "<table border=\"1\" class=\"dataframe\">\n",
       "  <thead>\n",
       "    <tr style=\"text-align: right;\">\n",
       "      <th></th>\n",
       "      <th>Gender</th>\n",
       "      <th>Married</th>\n",
       "      <th>Dependents</th>\n",
       "      <th>Education</th>\n",
       "      <th>Self_Employed</th>\n",
       "      <th>ApplicantIncome</th>\n",
       "      <th>CoapplicantIncome</th>\n",
       "      <th>LoanAmount</th>\n",
       "      <th>Loan_Amount_Term</th>\n",
       "      <th>Credit_History</th>\n",
       "      <th>Property_Area</th>\n",
       "    </tr>\n",
       "  </thead>\n",
       "  <tbody>\n",
       "    <tr>\n",
       "      <th>0</th>\n",
       "      <td>1</td>\n",
       "      <td>0</td>\n",
       "      <td>0</td>\n",
       "      <td>0</td>\n",
       "      <td>0</td>\n",
       "      <td>5849</td>\n",
       "      <td>0.0</td>\n",
       "      <td>128.0</td>\n",
       "      <td>360.0</td>\n",
       "      <td>1.0</td>\n",
       "      <td>2</td>\n",
       "    </tr>\n",
       "    <tr>\n",
       "      <th>1</th>\n",
       "      <td>1</td>\n",
       "      <td>1</td>\n",
       "      <td>1</td>\n",
       "      <td>0</td>\n",
       "      <td>0</td>\n",
       "      <td>4583</td>\n",
       "      <td>1508.0</td>\n",
       "      <td>128.0</td>\n",
       "      <td>360.0</td>\n",
       "      <td>1.0</td>\n",
       "      <td>0</td>\n",
       "    </tr>\n",
       "    <tr>\n",
       "      <th>2</th>\n",
       "      <td>1</td>\n",
       "      <td>1</td>\n",
       "      <td>0</td>\n",
       "      <td>0</td>\n",
       "      <td>1</td>\n",
       "      <td>3000</td>\n",
       "      <td>0.0</td>\n",
       "      <td>66.0</td>\n",
       "      <td>360.0</td>\n",
       "      <td>1.0</td>\n",
       "      <td>2</td>\n",
       "    </tr>\n",
       "    <tr>\n",
       "      <th>3</th>\n",
       "      <td>1</td>\n",
       "      <td>1</td>\n",
       "      <td>0</td>\n",
       "      <td>1</td>\n",
       "      <td>0</td>\n",
       "      <td>2583</td>\n",
       "      <td>2358.0</td>\n",
       "      <td>120.0</td>\n",
       "      <td>360.0</td>\n",
       "      <td>1.0</td>\n",
       "      <td>2</td>\n",
       "    </tr>\n",
       "    <tr>\n",
       "      <th>4</th>\n",
       "      <td>1</td>\n",
       "      <td>0</td>\n",
       "      <td>0</td>\n",
       "      <td>0</td>\n",
       "      <td>0</td>\n",
       "      <td>6000</td>\n",
       "      <td>0.0</td>\n",
       "      <td>141.0</td>\n",
       "      <td>360.0</td>\n",
       "      <td>1.0</td>\n",
       "      <td>2</td>\n",
       "    </tr>\n",
       "  </tbody>\n",
       "</table>\n",
       "</div>"
      ],
      "text/plain": [
       "   Gender  Married  Dependents  Education  Self_Employed  ApplicantIncome  \\\n",
       "0       1        0           0          0              0             5849   \n",
       "1       1        1           1          0              0             4583   \n",
       "2       1        1           0          0              1             3000   \n",
       "3       1        1           0          1              0             2583   \n",
       "4       1        0           0          0              0             6000   \n",
       "\n",
       "   CoapplicantIncome  LoanAmount  Loan_Amount_Term  Credit_History  \\\n",
       "0                0.0       128.0             360.0             1.0   \n",
       "1             1508.0       128.0             360.0             1.0   \n",
       "2                0.0        66.0             360.0             1.0   \n",
       "3             2358.0       120.0             360.0             1.0   \n",
       "4                0.0       141.0             360.0             1.0   \n",
       "\n",
       "   Property_Area  \n",
       "0              2  \n",
       "1              0  \n",
       "2              2  \n",
       "3              2  \n",
       "4              2  "
      ]
     },
     "execution_count": 90,
     "metadata": {},
     "output_type": "execute_result"
    }
   ],
   "source": [
    "X.head()"
   ]
  },
  {
   "cell_type": "code",
   "execution_count": 91,
   "id": "a5723ffe",
   "metadata": {},
   "outputs": [],
   "source": [
    "y = train_1.loc[:, train_1.columns == 'Loan_Status']"
   ]
  },
  {
   "cell_type": "code",
   "execution_count": 92,
   "id": "b7f2470d",
   "metadata": {},
   "outputs": [
    {
     "data": {
      "text/html": [
       "<div>\n",
       "<style scoped>\n",
       "    .dataframe tbody tr th:only-of-type {\n",
       "        vertical-align: middle;\n",
       "    }\n",
       "\n",
       "    .dataframe tbody tr th {\n",
       "        vertical-align: top;\n",
       "    }\n",
       "\n",
       "    .dataframe thead th {\n",
       "        text-align: right;\n",
       "    }\n",
       "</style>\n",
       "<table border=\"1\" class=\"dataframe\">\n",
       "  <thead>\n",
       "    <tr style=\"text-align: right;\">\n",
       "      <th></th>\n",
       "      <th>Loan_Status</th>\n",
       "    </tr>\n",
       "  </thead>\n",
       "  <tbody>\n",
       "    <tr>\n",
       "      <th>0</th>\n",
       "      <td>1</td>\n",
       "    </tr>\n",
       "    <tr>\n",
       "      <th>1</th>\n",
       "      <td>0</td>\n",
       "    </tr>\n",
       "    <tr>\n",
       "      <th>2</th>\n",
       "      <td>1</td>\n",
       "    </tr>\n",
       "    <tr>\n",
       "      <th>3</th>\n",
       "      <td>1</td>\n",
       "    </tr>\n",
       "    <tr>\n",
       "      <th>4</th>\n",
       "      <td>1</td>\n",
       "    </tr>\n",
       "  </tbody>\n",
       "</table>\n",
       "</div>"
      ],
      "text/plain": [
       "   Loan_Status\n",
       "0            1\n",
       "1            0\n",
       "2            1\n",
       "3            1\n",
       "4            1"
      ]
     },
     "execution_count": 92,
     "metadata": {},
     "output_type": "execute_result"
    }
   ],
   "source": [
    "y.head()"
   ]
  },
  {
   "cell_type": "code",
   "execution_count": 93,
   "id": "321f3aec",
   "metadata": {},
   "outputs": [],
   "source": [
    "X_train, X_test, y_train, y_test = train_test_split(X, y, test_size=0.2, random_state=123)"
   ]
  },
  {
   "cell_type": "code",
   "execution_count": 94,
   "id": "6c82269d",
   "metadata": {},
   "outputs": [
    {
     "name": "stdout",
     "output_type": "stream",
     "text": [
      "(491, 11)\n",
      "(123, 11)\n",
      "(491, 1)\n",
      "(123, 1)\n"
     ]
    }
   ],
   "source": [
    "print(X_train.shape)\n",
    "print(X_test.shape)\n",
    "print(y_train.shape)\n",
    "print(y_test.shape)"
   ]
  },
  {
   "cell_type": "markdown",
   "id": "2b155de5",
   "metadata": {},
   "source": [
    "<a name = Section45></a>\n",
    "## **4.5 Model training and evaluation**"
   ]
  },
  {
   "cell_type": "code",
   "execution_count": 95,
   "id": "11830ea1",
   "metadata": {},
   "outputs": [],
   "source": [
    "lr = LogisticRegression()"
   ]
  },
  {
   "cell_type": "code",
   "execution_count": 96,
   "id": "e99896a9",
   "metadata": {},
   "outputs": [
    {
     "name": "stderr",
     "output_type": "stream",
     "text": [
      "/home/ishank24/anaconda3/envs/mypythonenv/lib/python3.9/site-packages/sklearn/utils/validation.py:985: DataConversionWarning: A column-vector y was passed when a 1d array was expected. Please change the shape of y to (n_samples, ), for example using ravel().\n",
      "  y = column_or_1d(y, warn=True)\n"
     ]
    },
    {
     "data": {
      "text/plain": [
       "LogisticRegression()"
      ]
     },
     "execution_count": 96,
     "metadata": {},
     "output_type": "execute_result"
    }
   ],
   "source": [
    "lr.fit(X_train, y_train)"
   ]
  },
  {
   "cell_type": "code",
   "execution_count": 97,
   "id": "2ce6a9fa",
   "metadata": {},
   "outputs": [
    {
     "data": {
      "text/plain": [
       "array([[ 6.26274478e-02,  4.17075547e-01, -9.45279366e-02,\n",
       "        -4.15246460e-01, -1.46677053e-01, -1.41704133e-05,\n",
       "        -3.84101628e-05, -5.49996969e-04, -5.04699667e-03,\n",
       "         2.93027297e+00,  6.02233610e-02]])"
      ]
     },
     "execution_count": 97,
     "metadata": {},
     "output_type": "execute_result"
    }
   ],
   "source": [
    "lr.coef_"
   ]
  },
  {
   "cell_type": "code",
   "execution_count": 98,
   "id": "e86c43b8",
   "metadata": {},
   "outputs": [
    {
     "data": {
      "text/plain": [
       "array([0.1568])"
      ]
     },
     "execution_count": 98,
     "metadata": {},
     "output_type": "execute_result"
    }
   ],
   "source": [
    "lr.intercept_"
   ]
  },
  {
   "cell_type": "code",
   "execution_count": 99,
   "id": "f147ec0e",
   "metadata": {},
   "outputs": [],
   "source": [
    "y_preds_test = lr.predict(X_test)"
   ]
  },
  {
   "cell_type": "code",
   "execution_count": 100,
   "id": "0c6ab611",
   "metadata": {},
   "outputs": [
    {
     "data": {
      "text/plain": [
       "0.7804878048780488"
      ]
     },
     "execution_count": 100,
     "metadata": {},
     "output_type": "execute_result"
    }
   ],
   "source": [
    "### Accuracy score\n",
    "\n",
    "accuracy_score(y_test, y_preds_test)"
   ]
  },
  {
   "cell_type": "code",
   "execution_count": 101,
   "id": "6bf647eb",
   "metadata": {},
   "outputs": [
    {
     "data": {
      "image/png": "[encoded data removed]",
      "text/plain": [
       "<Figure size 432x288 with 2 Axes>"
      ]
     },
     "metadata": {
      "needs_background": "light"
     },
     "output_type": "display_data"
    }
   ],
   "source": [
    "### Confusion matrix \n",
    "\n",
    "# cm_lr = confusion_matrix(y_test, y_preds_test)\n",
    "# print(cm_lr)\n",
    "ConfusionMatrixDisplay.from_predictions(y_test, y_preds_test)\n",
    "plt.show()"
   ]
  },
  {
   "cell_type": "code",
   "execution_count": 102,
   "id": "e624e170",
   "metadata": {},
   "outputs": [
    {
     "name": "stdout",
     "output_type": "stream",
     "text": [
      "              precision    recall  f1-score   support\n",
      "\n",
      "           0       0.89      0.40      0.56        42\n",
      "           1       0.76      0.98      0.85        81\n",
      "\n",
      "    accuracy                           0.78       123\n",
      "   macro avg       0.83      0.69      0.71       123\n",
      "weighted avg       0.81      0.78      0.75       123\n",
      "\n"
     ]
    }
   ],
   "source": [
    "### Classification report\n",
    "\n",
    "clasrep_lr = classification_report(y_test, y_preds_test)\n",
    "print(clasrep_lr)"
   ]
  },
  {
   "cell_type": "markdown",
   "id": "0f8eedef",
   "metadata": {},
   "source": [
    "<a name = Section46></a>\n",
    "## **4.6 Trying out with Random Forest**"
   ]
  },
  {
   "cell_type": "code",
   "execution_count": 103,
   "id": "367eccb9",
   "metadata": {},
   "outputs": [],
   "source": [
    "from sklearn.ensemble import RandomForestClassifier"
   ]
  },
  {
   "cell_type": "code",
   "execution_count": 104,
   "id": "5f315597",
   "metadata": {},
   "outputs": [],
   "source": [
    "rf = RandomForestClassifier()"
   ]
  },
  {
   "cell_type": "code",
   "execution_count": 105,
   "id": "f4f01ece",
   "metadata": {},
   "outputs": [
    {
     "name": "stderr",
     "output_type": "stream",
     "text": [
      "<ipython-input-105-168a6fc83696>:1: DataConversionWarning: A column-vector y was passed when a 1d array was expected. Please change the shape of y to (n_samples,), for example using ravel().\n",
      "  rf.fit(X_train, y_train)\n"
     ]
    },
    {
     "data": {
      "text/plain": [
       "RandomForestClassifier()"
      ]
     },
     "execution_count": 105,
     "metadata": {},
     "output_type": "execute_result"
    }
   ],
   "source": [
    "rf.fit(X_train, y_train)"
   ]
  },
  {
   "cell_type": "code",
   "execution_count": 106,
   "id": "1f42363b",
   "metadata": {},
   "outputs": [],
   "source": [
    "y_preds_rf = rf.predict(X_test)"
   ]
  },
  {
   "cell_type": "code",
   "execution_count": 107,
   "id": "84df94d2",
   "metadata": {},
   "outputs": [
    {
     "data": {
      "text/plain": [
       "0.7642276422764228"
      ]
     },
     "execution_count": 107,
     "metadata": {},
     "output_type": "execute_result"
    }
   ],
   "source": [
    "### Accuracy score\n",
    "\n",
    "accuracy_score(y_test, y_preds_rf)"
   ]
  },
  {
   "cell_type": "code",
   "execution_count": 108,
   "id": "9364d046",
   "metadata": {},
   "outputs": [
    {
     "data": {
      "image/png": "[encoded data removed]",
      "text/plain": [
       "<Figure size 432x288 with 2 Axes>"
      ]
     },
     "metadata": {
      "needs_background": "light"
     },
     "output_type": "display_data"
    }
   ],
   "source": [
    "### Confusion matrix \n",
    "\n",
    "# cm_lr = confusion_matrix(y_test, y_preds_test)\n",
    "# print(cm_lr)\n",
    "ConfusionMatrixDisplay.from_predictions(y_test, y_preds_rf)\n",
    "plt.show()"
   ]
  },
  {
   "cell_type": "code",
   "execution_count": 109,
   "id": "26728668",
   "metadata": {},
   "outputs": [
    {
     "name": "stdout",
     "output_type": "stream",
     "text": [
      "              precision    recall  f1-score   support\n",
      "\n",
      "           0       0.89      0.40      0.56        42\n",
      "           1       0.76      0.98      0.85        81\n",
      "\n",
      "    accuracy                           0.78       123\n",
      "   macro avg       0.83      0.69      0.71       123\n",
      "weighted avg       0.81      0.78      0.75       123\n",
      "\n"
     ]
    }
   ],
   "source": [
    "### Classification report\n",
    "\n",
    "clasrep_lr = classification_report(y_test, y_preds_test)\n",
    "print(clasrep_lr)"
   ]
  }
 ],
 "metadata": {
  "celltoolbar": "Raw Cell Format",
  "kernelspec": {
   "display_name": "mypythonenv",
   "language": "python",
   "name": "mypythonenv"
  },
  "language_info": {
   "codemirror_mode": {
    "name": "ipython",
    "version": 3
   },
   "file_extension": ".py",
   "mimetype": "text/x-python",
   "name": "python",
   "nbconvert_exporter": "python",
   "pygments_lexer": "ipython3",
   "version": "3.9.6"
  }
 },
 "nbformat": 4,
 "nbformat_minor": 5
}
